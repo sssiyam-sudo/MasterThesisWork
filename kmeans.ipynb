{
  "nbformat": 4,
  "nbformat_minor": 0,
  "metadata": {
    "colab": {
      "provenance": [],
      "mount_file_id": "1mOjcIgTPB2J2XdfObWm4W5uKCKPcSNm3",
      "authorship_tag": "ABX9TyNYt7aZgdXdbbH7IaDW9IjB",
      "include_colab_link": true
    },
    "kernelspec": {
      "name": "python3",
      "display_name": "Python 3"
    },
    "language_info": {
      "name": "python"
    }
  },
  "cells": [
    {
      "cell_type": "markdown",
      "metadata": {
        "id": "view-in-github",
        "colab_type": "text"
      },
      "source": [
        "<a href=\"https://colab.research.google.com/github/sssiyam-sudo/MasterThesisWork/blob/main/kmeans.ipynb\" target=\"_parent\"><img src=\"https://colab.research.google.com/assets/colab-badge.svg\" alt=\"Open In Colab\"/></a>"
      ]
    },
    {
      "cell_type": "markdown",
      "source": [
        "Importing all the necessary libraries & packages."
      ],
      "metadata": {
        "id": "Q1bSVLVYcy8a"
      }
    },
    {
      "cell_type": "code",
      "execution_count": 1,
      "metadata": {
        "id": "ct6PLWOD9jif"
      },
      "outputs": [],
      "source": [
        "import os\n",
        "import pandas as pd\n",
        "import numpy as np\n",
        "from math import sqrt\n",
        "import seaborn as sns\n",
        "import missingno as msno\n",
        "import plotly as py\n",
        "import plotly.graph_objs as go\n",
        "import matplotlib.pyplot as plt\n",
        "from sklearn import preprocessing , metrics "
      ]
    },
    {
      "cell_type": "code",
      "source": [
        "df = pd.read_csv('/content/drive/MyDrive/ThesisWork/nsclc_pd1_msk_2018_clinical_data.tsv', sep='\\t')"
      ],
      "metadata": {
        "id": "hw-ch9vl9r7-"
      },
      "execution_count": 23,
      "outputs": []
    },
    {
      "cell_type": "markdown",
      "source": [
        "#-----------------\n",
        "#-----------------\n",
        "#-----------------"
      ],
      "metadata": {
        "id": "X0V_HDWydENV"
      }
    },
    {
      "cell_type": "markdown",
      "source": [
        "-------------------------------------\n",
        "## **Data exploration and cleaning.**\n",
        "-------------------------------------"
      ],
      "metadata": {
        "id": "wdM-62D2RaXF"
      }
    },
    {
      "cell_type": "code",
      "source": [
        "df.rename(columns = {'Study ID':'Study_ID', 'Patient ID':'Patient_ID',\n",
        "                     'Sample ID':'Sample_ID' , 'Diagnosis Age':'Diagnosis_Age' ,\n",
        "                     'Cancer Type':'Cancer_Type' , 'Cancer Type Detailed':'Cancer_Type_Detailed' ,\n",
        "                     'Durable Clinical Benefit':'Durable_Clinical_Benefit' , 'FGA':'FGA' , \n",
        "                     'Fraction Genome Altered':'Fraction_Genome_Altered' , 'Gene Panel':'Gene_Panel',\n",
        "                     'Lines of treatment':'Lines_of_treatment' , 'Mutation Count':'Mutation_Count' , \n",
        "                     'Mutation Rate':'Mutation_Rate' , 'Oncotree Code':'Oncotree_Code', \n",
        "                     'PD-L1 Score (%)':'PD-L1Score%' , 'Progress Free Survival (Months)':'ProgressFreeSurvival_Months' ,\n",
        "                     'Progression Free Status':'ProgressionFreeStatus' ,\n",
        "                     'Number of Samples Per Patient':'Number_of_Samples_Per_Patient' , 'Sex':'Gender' ,\n",
        "                     'Smoker':'Smoker' , 'Somatic Status':'Somatic_Status' , 'TMB (nonsynonymous)':'TMB(nonsynonymous)',\n",
        "                     'Treatment Type':'Treatment_Type'}, inplace = True)"
      ],
      "metadata": {
        "id": "ATBp0o0Cxoge"
      },
      "execution_count": 24,
      "outputs": []
    },
    {
      "cell_type": "code",
      "source": [
        "print(df.info())"
      ],
      "metadata": {
        "colab": {
          "base_uri": "https://localhost:8080/"
        },
        "id": "5vsSoRfhoNkw",
        "outputId": "5e459b82-6894-436e-d15b-674a5d84ebbb"
      },
      "execution_count": 5,
      "outputs": [
        {
          "output_type": "stream",
          "name": "stdout",
          "text": [
            "<class 'pandas.core.frame.DataFrame'>\n",
            "RangeIndex: 240 entries, 0 to 239\n",
            "Data columns (total 24 columns):\n",
            " #   Column                         Non-Null Count  Dtype  \n",
            "---  ------                         --------------  -----  \n",
            " 0   Study_ID                       240 non-null    object \n",
            " 1   Patient_ID                     240 non-null    object \n",
            " 2   Sample_ID                      240 non-null    object \n",
            " 3   Diagnosis_Age                  240 non-null    int64  \n",
            " 4   Cancer_Type                    240 non-null    object \n",
            " 5   Cancer_Type_Detailed           240 non-null    object \n",
            " 6   Durable_Clinical_Benefit       240 non-null    object \n",
            " 7   FGA                            240 non-null    float64\n",
            " 8   Fraction_Genome_Altered        240 non-null    float64\n",
            " 9   Gene_Panel                     240 non-null    object \n",
            " 10  IRB                            240 non-null    object \n",
            " 11  Lines_of_treatment             240 non-null    int64  \n",
            " 12  Mutation_Count                 240 non-null    int64  \n",
            " 13  Mutation_Rate                  240 non-null    float64\n",
            " 14  Oncotree_Code                  240 non-null    object \n",
            " 15  PD-L1Score%                    86 non-null     float64\n",
            " 16  ProgressFreeSurvival_Months    240 non-null    float64\n",
            " 17  ProgressionFreeStatus          240 non-null    object \n",
            " 18  Number_of_Samples_Per_Patient  240 non-null    int64  \n",
            " 19  Gender                         240 non-null    object \n",
            " 20  Smoker                         240 non-null    object \n",
            " 21  Somatic_Status                 240 non-null    object \n",
            " 22  TMB(nonsynonymous)             240 non-null    float64\n",
            " 23  Treatment_Type                 240 non-null    object \n",
            "dtypes: float64(6), int64(4), object(14)\n",
            "memory usage: 45.1+ KB\n",
            "None\n"
          ]
        }
      ]
    },
    {
      "cell_type": "code",
      "source": [
        "#Finally we will keep only the columns that have the bigger impacts on the target.\n",
        "df.drop(df.columns[[0,1,2,3,4,5,7,8,9,10,11,14,15,16,17,18,19,20,21,23]], axis=1, inplace=True)"
      ],
      "metadata": {
        "id": "i46f1YpWZpg2"
      },
      "execution_count": 25,
      "outputs": []
    },
    {
      "cell_type": "code",
      "source": [
        "msno.matrix(df)"
      ],
      "metadata": {
        "colab": {
          "base_uri": "https://localhost:8080/",
          "height": 656
        },
        "id": "v7TNnEbnvznu",
        "outputId": "40567beb-a420-42d2-f4f6-637974222686"
      },
      "execution_count": 7,
      "outputs": [
        {
          "output_type": "execute_result",
          "data": {
            "text/plain": [
              "<AxesSubplot:>"
            ]
          },
          "metadata": {},
          "execution_count": 7
        },
        {
          "output_type": "display_data",
          "data": {
            "text/plain": [
              "<Figure size 1800x720 with 2 Axes>"
            ],
            "image/png": "[encoded data removed]"
          },
          "metadata": {
            "needs_background": "light"
          }
        }
      ]
    },
    {
      "cell_type": "code",
      "source": [
        "df.groupby(['Durable_Clinical_Benefit'])['Durable_Clinical_Benefit'].count()"
      ],
      "metadata": {
        "colab": {
          "base_uri": "https://localhost:8080/"
        },
        "id": "XUH7H7H8TIGh",
        "outputId": "8fb3c28c-dc98-48cd-a5be-5ab461157530"
      },
      "execution_count": 26,
      "outputs": [
        {
          "output_type": "execute_result",
          "data": {
            "text/plain": [
              "Durable_Clinical_Benefit\n",
              "NE      13\n",
              "NO     158\n",
              "YES     69\n",
              "Name: Durable_Clinical_Benefit, dtype: int64"
            ]
          },
          "metadata": {},
          "execution_count": 26
        }
      ]
    },
    {
      "cell_type": "markdown",
      "source": [
        "#-----------------\n",
        "#-----------------\n",
        "#-----------------"
      ],
      "metadata": {
        "id": "y_f5CW1bTBcn"
      }
    },
    {
      "cell_type": "code",
      "source": [
        "df = df.sample(frac=1) #this will randomly shuffle the rows to make sure the data is not sorted."
      ],
      "metadata": {
        "id": "IBXjYgkvgdLx"
      },
      "execution_count": 27,
      "outputs": []
    },
    {
      "cell_type": "code",
      "source": [
        "df.drop(df.index[df['Durable_Clinical_Benefit'] == 'NE'], inplace=True) #removing the NE class from the dataset"
      ],
      "metadata": {
        "id": "KyLR3rw5o2-3"
      },
      "execution_count": 28,
      "outputs": []
    },
    {
      "cell_type": "code",
      "source": [
        "df.drop(df.index[df['Mutation_Rate'] > 49], inplace=True)"
      ],
      "metadata": {
        "id": "5kQHGPQGMetj"
      },
      "execution_count": 68,
      "outputs": []
    },
    {
      "cell_type": "code",
      "source": [
        "df.head()"
      ],
      "metadata": {
        "id": "Z2-29xOsaJEI",
        "outputId": "d20f6355-1c78-4215-abb3-c3d0368007cb",
        "colab": {
          "base_uri": "https://localhost:8080/",
          "height": 206
        }
      },
      "execution_count": 69,
      "outputs": [
        {
          "output_type": "execute_result",
          "data": {
            "text/plain": [
              "     Durable_Clinical_Benefit  Mutation_Count  Mutation_Rate  \\\n",
              "79                          0               9       9.183673   \n",
              "104                         1               6       5.660377   \n",
              "160                         0              11      10.377358   \n",
              "162                         1               8       7.547170   \n",
              "222                         0              11       9.016393   \n",
              "\n",
              "     TMB(nonsynonymous)  \n",
              "79             9.982398  \n",
              "104            5.872318  \n",
              "160           10.765917  \n",
              "162            7.829758  \n",
              "222            9.511679  "
            ],
            "text/html": [
              "\n",
              "  <div id=\"df-47fff27b-1244-409c-b437-79cae6b461c6\">\n",
              "    <div class=\"colab-df-container\">\n",
              "      <div>\n",
              "<style scoped>\n",
              "    .dataframe tbody tr th:only-of-type {\n",
              "        vertical-align: middle;\n",
              "    }\n",
              "\n",
              "    .dataframe tbody tr th {\n",
              "        vertical-align: top;\n",
              "    }\n",
              "\n",
              "    .dataframe thead th {\n",
              "        text-align: right;\n",
              "    }\n",
              "</style>\n",
              "<table border=\"1\" class=\"dataframe\">\n",
              "  <thead>\n",
              "    <tr style=\"text-align: right;\">\n",
              "      <th></th>\n",
              "      <th>Durable_Clinical_Benefit</th>\n",
              "      <th>Mutation_Count</th>\n",
              "      <th>Mutation_Rate</th>\n",
              "      <th>TMB(nonsynonymous)</th>\n",
              "    </tr>\n",
              "  </thead>\n",
              "  <tbody>\n",
              "    <tr>\n",
              "      <th>79</th>\n",
              "      <td>0</td>\n",
              "      <td>9</td>\n",
              "      <td>9.183673</td>\n",
              "      <td>9.982398</td>\n",
              "    </tr>\n",
              "    <tr>\n",
              "      <th>104</th>\n",
              "      <td>1</td>\n",
              "      <td>6</td>\n",
              "      <td>5.660377</td>\n",
              "      <td>5.872318</td>\n",
              "    </tr>\n",
              "    <tr>\n",
              "      <th>160</th>\n",
              "      <td>0</td>\n",
              "      <td>11</td>\n",
              "      <td>10.377358</td>\n",
              "      <td>10.765917</td>\n",
              "    </tr>\n",
              "    <tr>\n",
              "      <th>162</th>\n",
              "      <td>1</td>\n",
              "      <td>8</td>\n",
              "      <td>7.547170</td>\n",
              "      <td>7.829758</td>\n",
              "    </tr>\n",
              "    <tr>\n",
              "      <th>222</th>\n",
              "      <td>0</td>\n",
              "      <td>11</td>\n",
              "      <td>9.016393</td>\n",
              "      <td>9.511679</td>\n",
              "    </tr>\n",
              "  </tbody>\n",
              "</table>\n",
              "</div>\n",
              "      <button class=\"colab-df-convert\" onclick=\"convertToInteractive('df-47fff27b-1244-409c-b437-79cae6b461c6')\"\n",
              "              title=\"Convert this dataframe to an interactive table.\"\n",
              "              style=\"display:none;\">\n",
              "        \n",
              "  <svg xmlns=\"http://www.w3.org/2000/svg\" height=\"24px\"viewBox=\"0 0 24 24\"\n",
              "       width=\"24px\">\n",
              "    <path d=\"M0 0h24v24H0V0z\" fill=\"none\"/>\n",
              "    <path d=\"M18.56 5.44l.94 2.06.94-2.06 2.06-.94-2.06-.94-.94-2.06-.94 2.06-2.06.94zm-11 1L8.5 8.5l.94-2.06 2.06-.94-2.06-.94L8.5 2.5l-.94 2.06-2.06.94zm10 10l.94 2.06.94-2.06 2.06-.94-2.06-.94-.94-2.06-.94 2.06-2.06.94z\"/><path d=\"M17.41 7.96l-1.37-1.37c-.4-.4-.92-.59-1.43-.59-.52 0-1.04.2-1.43.59L10.3 9.45l-7.72 7.72c-.78.78-.78 2.05 0 2.83L4 21.41c.39.39.9.59 1.41.59.51 0 1.02-.2 1.41-.59l7.78-7.78 2.81-2.81c.8-.78.8-2.07 0-2.86zM5.41 20L4 18.59l7.72-7.72 1.47 1.35L5.41 20z\"/>\n",
              "  </svg>\n",
              "      </button>\n",
              "      \n",
              "  <style>\n",
              "    .colab-df-container {\n",
              "      display:flex;\n",
              "      flex-wrap:wrap;\n",
              "      gap: 12px;\n",
              "    }\n",
              "\n",
              "    .colab-df-convert {\n",
              "      background-color: #E8F0FE;\n",
              "      border: none;\n",
              "      border-radius: 50%;\n",
              "      cursor: pointer;\n",
              "      display: none;\n",
              "      fill: #1967D2;\n",
              "      height: 32px;\n",
              "      padding: 0 0 0 0;\n",
              "      width: 32px;\n",
              "    }\n",
              "\n",
              "    .colab-df-convert:hover {\n",
              "      background-color: #E2EBFA;\n",
              "      box-shadow: 0px 1px 2px rgba(60, 64, 67, 0.3), 0px 1px 3px 1px rgba(60, 64, 67, 0.15);\n",
              "      fill: #174EA6;\n",
              "    }\n",
              "\n",
              "    [theme=dark] .colab-df-convert {\n",
              "      background-color: #3B4455;\n",
              "      fill: #D2E3FC;\n",
              "    }\n",
              "\n",
              "    [theme=dark] .colab-df-convert:hover {\n",
              "      background-color: #434B5C;\n",
              "      box-shadow: 0px 1px 3px 1px rgba(0, 0, 0, 0.15);\n",
              "      filter: drop-shadow(0px 1px 2px rgba(0, 0, 0, 0.3));\n",
              "      fill: #FFFFFF;\n",
              "    }\n",
              "  </style>\n",
              "\n",
              "      <script>\n",
              "        const buttonEl =\n",
              "          document.querySelector('#df-47fff27b-1244-409c-b437-79cae6b461c6 button.colab-df-convert');\n",
              "        buttonEl.style.display =\n",
              "          google.colab.kernel.accessAllowed ? 'block' : 'none';\n",
              "\n",
              "        async function convertToInteractive(key) {\n",
              "          const element = document.querySelector('#df-47fff27b-1244-409c-b437-79cae6b461c6');\n",
              "          const dataTable =\n",
              "            await google.colab.kernel.invokeFunction('convertToInteractive',\n",
              "                                                     [key], {});\n",
              "          if (!dataTable) return;\n",
              "\n",
              "          const docLinkHtml = 'Like what you see? Visit the ' +\n",
              "            '<a target=\"_blank\" href=https://colab.research.google.com/notebooks/data_table.ipynb>data table notebook</a>'\n",
              "            + ' to learn more about interactive tables.';\n",
              "          element.innerHTML = '';\n",
              "          dataTable['output_type'] = 'display_data';\n",
              "          await google.colab.output.renderOutput(dataTable, element);\n",
              "          const docLink = document.createElement('div');\n",
              "          docLink.innerHTML = docLinkHtml;\n",
              "          element.appendChild(docLink);\n",
              "        }\n",
              "      </script>\n",
              "    </div>\n",
              "  </div>\n",
              "  "
            ]
          },
          "metadata": {},
          "execution_count": 69
        }
      ]
    },
    {
      "cell_type": "markdown",
      "source": [
        "#----------------------------------------------------\n",
        "#----------------------------------------------------\n",
        "#----------------------------------------------------"
      ],
      "metadata": {
        "id": "fz_kcLAaTB-v"
      }
    },
    {
      "cell_type": "code",
      "source": [
        "X = df.drop([\"Durable_Clinical_Benefit\"], axis=1)\n",
        "y = df[\"Durable_Clinical_Benefit\"] #This will be our target to predict."
      ],
      "metadata": {
        "id": "ezrRpqAlsWTq"
      },
      "execution_count": 70,
      "outputs": []
    },
    {
      "cell_type": "code",
      "source": [
        "from sklearn.preprocessing import StandardScaler\n",
        "scaler = StandardScaler()\n",
        "data_scaled = scaler.fit_transform(X)\n",
        "\n",
        "# statistics of scaled data\n",
        "pd.DataFrame(data_scaled).describe()"
      ],
      "metadata": {
        "colab": {
          "base_uri": "https://localhost:8080/",
          "height": 300
        },
        "id": "GCb7b4tKH8Wl",
        "outputId": "d420a835-e467-411b-8107-2b4fc86530b5"
      },
      "execution_count": 71,
      "outputs": [
        {
          "output_type": "execute_result",
          "data": {
            "text/plain": [
              "                  0             1             2\n",
              "count  2.250000e+02  2.250000e+02  2.250000e+02\n",
              "mean   7.105427e-17 -1.973730e-16 -2.368476e-17\n",
              "std    1.002230e+00  1.002230e+00  1.002230e+00\n",
              "min   -1.067317e+00 -1.087883e+00 -1.091858e+00\n",
              "25%   -7.012405e-01 -7.085503e-01 -7.123540e-01\n",
              "50%   -2.131381e-01 -2.458045e-01 -2.311705e-01\n",
              "75%    2.749644e-01  2.606341e-01  3.185714e-01\n",
              "max    4.789912e+00  4.985408e+00  4.767413e+00"
            ],
            "text/html": [
              "\n",
              "  <div id=\"df-cb12c0f5-53b9-4861-ad57-56caca320f4b\">\n",
              "    <div class=\"colab-df-container\">\n",
              "      <div>\n",
              "<style scoped>\n",
              "    .dataframe tbody tr th:only-of-type {\n",
              "        vertical-align: middle;\n",
              "    }\n",
              "\n",
              "    .dataframe tbody tr th {\n",
              "        vertical-align: top;\n",
              "    }\n",
              "\n",
              "    .dataframe thead th {\n",
              "        text-align: right;\n",
              "    }\n",
              "</style>\n",
              "<table border=\"1\" class=\"dataframe\">\n",
              "  <thead>\n",
              "    <tr style=\"text-align: right;\">\n",
              "      <th></th>\n",
              "      <th>0</th>\n",
              "      <th>1</th>\n",
              "      <th>2</th>\n",
              "    </tr>\n",
              "  </thead>\n",
              "  <tbody>\n",
              "    <tr>\n",
              "      <th>count</th>\n",
              "      <td>2.250000e+02</td>\n",
              "      <td>2.250000e+02</td>\n",
              "      <td>2.250000e+02</td>\n",
              "    </tr>\n",
              "    <tr>\n",
              "      <th>mean</th>\n",
              "      <td>7.105427e-17</td>\n",
              "      <td>-1.973730e-16</td>\n",
              "      <td>-2.368476e-17</td>\n",
              "    </tr>\n",
              "    <tr>\n",
              "      <th>std</th>\n",
              "      <td>1.002230e+00</td>\n",
              "      <td>1.002230e+00</td>\n",
              "      <td>1.002230e+00</td>\n",
              "    </tr>\n",
              "    <tr>\n",
              "      <th>min</th>\n",
              "      <td>-1.067317e+00</td>\n",
              "      <td>-1.087883e+00</td>\n",
              "      <td>-1.091858e+00</td>\n",
              "    </tr>\n",
              "    <tr>\n",
              "      <th>25%</th>\n",
              "      <td>-7.012405e-01</td>\n",
              "      <td>-7.085503e-01</td>\n",
              "      <td>-7.123540e-01</td>\n",
              "    </tr>\n",
              "    <tr>\n",
              "      <th>50%</th>\n",
              "      <td>-2.131381e-01</td>\n",
              "      <td>-2.458045e-01</td>\n",
              "      <td>-2.311705e-01</td>\n",
              "    </tr>\n",
              "    <tr>\n",
              "      <th>75%</th>\n",
              "      <td>2.749644e-01</td>\n",
              "      <td>2.606341e-01</td>\n",
              "      <td>3.185714e-01</td>\n",
              "    </tr>\n",
              "    <tr>\n",
              "      <th>max</th>\n",
              "      <td>4.789912e+00</td>\n",
              "      <td>4.985408e+00</td>\n",
              "      <td>4.767413e+00</td>\n",
              "    </tr>\n",
              "  </tbody>\n",
              "</table>\n",
              "</div>\n",
              "      <button class=\"colab-df-convert\" onclick=\"convertToInteractive('df-cb12c0f5-53b9-4861-ad57-56caca320f4b')\"\n",
              "              title=\"Convert this dataframe to an interactive table.\"\n",
              "              style=\"display:none;\">\n",
              "        \n",
              "  <svg xmlns=\"http://www.w3.org/2000/svg\" height=\"24px\"viewBox=\"0 0 24 24\"\n",
              "       width=\"24px\">\n",
              "    <path d=\"M0 0h24v24H0V0z\" fill=\"none\"/>\n",
              "    <path d=\"M18.56 5.44l.94 2.06.94-2.06 2.06-.94-2.06-.94-.94-2.06-.94 2.06-2.06.94zm-11 1L8.5 8.5l.94-2.06 2.06-.94-2.06-.94L8.5 2.5l-.94 2.06-2.06.94zm10 10l.94 2.06.94-2.06 2.06-.94-2.06-.94-.94-2.06-.94 2.06-2.06.94z\"/><path d=\"M17.41 7.96l-1.37-1.37c-.4-.4-.92-.59-1.43-.59-.52 0-1.04.2-1.43.59L10.3 9.45l-7.72 7.72c-.78.78-.78 2.05 0 2.83L4 21.41c.39.39.9.59 1.41.59.51 0 1.02-.2 1.41-.59l7.78-7.78 2.81-2.81c.8-.78.8-2.07 0-2.86zM5.41 20L4 18.59l7.72-7.72 1.47 1.35L5.41 20z\"/>\n",
              "  </svg>\n",
              "      </button>\n",
              "      \n",
              "  <style>\n",
              "    .colab-df-container {\n",
              "      display:flex;\n",
              "      flex-wrap:wrap;\n",
              "      gap: 12px;\n",
              "    }\n",
              "\n",
              "    .colab-df-convert {\n",
              "      background-color: #E8F0FE;\n",
              "      border: none;\n",
              "      border-radius: 50%;\n",
              "      cursor: pointer;\n",
              "      display: none;\n",
              "      fill: #1967D2;\n",
              "      height: 32px;\n",
              "      padding: 0 0 0 0;\n",
              "      width: 32px;\n",
              "    }\n",
              "\n",
              "    .colab-df-convert:hover {\n",
              "      background-color: #E2EBFA;\n",
              "      box-shadow: 0px 1px 2px rgba(60, 64, 67, 0.3), 0px 1px 3px 1px rgba(60, 64, 67, 0.15);\n",
              "      fill: #174EA6;\n",
              "    }\n",
              "\n",
              "    [theme=dark] .colab-df-convert {\n",
              "      background-color: #3B4455;\n",
              "      fill: #D2E3FC;\n",
              "    }\n",
              "\n",
              "    [theme=dark] .colab-df-convert:hover {\n",
              "      background-color: #434B5C;\n",
              "      box-shadow: 0px 1px 3px 1px rgba(0, 0, 0, 0.15);\n",
              "      filter: drop-shadow(0px 1px 2px rgba(0, 0, 0, 0.3));\n",
              "      fill: #FFFFFF;\n",
              "    }\n",
              "  </style>\n",
              "\n",
              "      <script>\n",
              "        const buttonEl =\n",
              "          document.querySelector('#df-cb12c0f5-53b9-4861-ad57-56caca320f4b button.colab-df-convert');\n",
              "        buttonEl.style.display =\n",
              "          google.colab.kernel.accessAllowed ? 'block' : 'none';\n",
              "\n",
              "        async function convertToInteractive(key) {\n",
              "          const element = document.querySelector('#df-cb12c0f5-53b9-4861-ad57-56caca320f4b');\n",
              "          const dataTable =\n",
              "            await google.colab.kernel.invokeFunction('convertToInteractive',\n",
              "                                                     [key], {});\n",
              "          if (!dataTable) return;\n",
              "\n",
              "          const docLinkHtml = 'Like what you see? Visit the ' +\n",
              "            '<a target=\"_blank\" href=https://colab.research.google.com/notebooks/data_table.ipynb>data table notebook</a>'\n",
              "            + ' to learn more about interactive tables.';\n",
              "          element.innerHTML = '';\n",
              "          dataTable['output_type'] = 'display_data';\n",
              "          await google.colab.output.renderOutput(dataTable, element);\n",
              "          const docLink = document.createElement('div');\n",
              "          docLink.innerHTML = docLinkHtml;\n",
              "          element.appendChild(docLink);\n",
              "        }\n",
              "      </script>\n",
              "    </div>\n",
              "  </div>\n",
              "  "
            ]
          },
          "metadata": {},
          "execution_count": 71
        }
      ]
    },
    {
      "cell_type": "code",
      "source": [
        "data_scaled = pd.get_dummies(X) #One Hot Encoding \n",
        "# initializing sklearn labelencoder\n",
        "label_encoder = preprocessing.LabelEncoder()\n",
        "cols = ['Durable_Clinical_Benefit']\n",
        "# sklearn labelencoder\n",
        "df[cols] = df[cols].apply(preprocessing.LabelEncoder().fit_transform)\n",
        "y = df[\"Durable_Clinical_Benefit\"]"
      ],
      "metadata": {
        "id": "Lkv7qCMGIeTw"
      },
      "execution_count": 72,
      "outputs": []
    },
    {
      "cell_type": "code",
      "source": [
        "from sklearn.decomposition import PCA\n",
        "from sklearn.cluster import KMeans"
      ],
      "metadata": {
        "id": "1Z3qjTR-PDJU"
      },
      "execution_count": 73,
      "outputs": []
    },
    {
      "cell_type": "code",
      "source": [
        "data = data_scaled"
      ],
      "metadata": {
        "id": "o52jiClDPORC"
      },
      "execution_count": 74,
      "outputs": []
    },
    {
      "cell_type": "markdown",
      "source": [
        "## Applying elbow method for selecting K value"
      ],
      "metadata": {
        "id": "0lPmbxecOfr4"
      }
    },
    {
      "cell_type": "code",
      "source": [
        "inertia = []\n",
        "for n in range(1 , 11):\n",
        "    algorithm = (KMeans(n_clusters = n ,init='k-means++', n_init = 10 ,max_iter=300, \n",
        "                        tol=0.0001,  random_state= 111  , algorithm='elkan') )\n",
        "    algorithm.fit(data)\n",
        "    inertia.append(algorithm.inertia_)\n"
      ],
      "metadata": {
        "colab": {
          "base_uri": "https://localhost:8080/"
        },
        "id": "t-dUc_mJb7Ug",
        "outputId": "eba54b1f-3c0e-4838-8368-c56ae7922910"
      },
      "execution_count": 75,
      "outputs": [
        {
          "output_type": "stream",
          "name": "stderr",
          "text": [
            "/usr/local/lib/python3.8/dist-packages/sklearn/cluster/_kmeans.py:1373: RuntimeWarning:\n",
            "\n",
            "algorithm='elkan' doesn't make sense for a single cluster. Using 'lloyd' instead.\n",
            "\n"
          ]
        }
      ]
    },
    {
      "cell_type": "code",
      "source": [
        "plt.figure(1 , figsize = (15 ,6))\n",
        "plt.plot(np.arange(1 , 11) , inertia , 'o')\n",
        "plt.plot(np.arange(1 , 11) , inertia , '-' , alpha = 0.5)\n",
        "plt.xlabel('Number of Clusters') , plt.ylabel('Inertia')\n",
        "plt.show()"
      ],
      "metadata": {
        "colab": {
          "base_uri": "https://localhost:8080/",
          "height": 388
        },
        "id": "e-nct7AMb7XE",
        "outputId": "b1a18c3e-552a-439e-c3cb-e5811aab3491"
      },
      "execution_count": 76,
      "outputs": [
        {
          "output_type": "display_data",
          "data": {
            "text/plain": [
              "<Figure size 1080x432 with 1 Axes>"
            ],
            "image/png": "[encoded data removed]"
          },
          "metadata": {
            "needs_background": "light"
          }
        }
      ]
    },
    {
      "cell_type": "markdown",
      "source": [
        "## Fitting the K means with selected K value"
      ],
      "metadata": {
        "id": "mg9U6JJmO4FT"
      }
    },
    {
      "cell_type": "code",
      "source": [
        "algorithm = (KMeans(n_clusters = 2 ,init='k-means++', n_init = 10 ,max_iter=300, \n",
        "                        tol=0.0001,  random_state= 111  , algorithm='elkan') )\n",
        "algorithm.fit(data)\n",
        "labels3 = algorithm.labels_\n",
        "centroids3 = algorithm.cluster_centers_"
      ],
      "metadata": {
        "id": "sOKbk-mXb7Zi"
      },
      "execution_count": 77,
      "outputs": []
    },
    {
      "cell_type": "code",
      "source": [
        "data['label3'] =  labels3\n",
        "trace1 = go.Scatter3d(\n",
        "    x= data['Mutation_Count'],\n",
        "    y= data['Mutation_Rate'],\n",
        "    z= data['TMB(nonsynonymous)'],\n",
        "    mode='markers',\n",
        "     marker=dict(\n",
        "        color = data['label3'], \n",
        "        size= 10,\n",
        "        line=dict(\n",
        "            color= data['label3'],\n",
        "            width= 5\n",
        "        ),\n",
        "        opacity=.9\n",
        "     )\n",
        ")\n",
        "\n",
        "dt = [trace1]\n",
        "layout = go.Layout(\n",
        "#     margin=dict(\n",
        "#         l=0,\n",
        "#         r=0,\n",
        "#         b=0,\n",
        "#         t=0\n",
        "#     )\n",
        "    title= 'Clusters',\n",
        "    scene = dict(\n",
        "            xaxis = dict(title  = 'Mutation_Count'),\n",
        "            yaxis = dict(title  = 'Mutation_Rate'),\n",
        "            zaxis = dict(title  = 'TMB')\n",
        "        )\n",
        ")\n",
        "fig = go.Figure(data=dt, layout=layout)\n",
        "py.offline.iplot(fig)"
      ],
      "metadata": {
        "colab": {
          "base_uri": "https://localhost:8080/",
          "height": 542
        },
        "id": "BGEziJ9kb7cD",
        "outputId": "7c4f9f8f-921b-4eae-ffb7-05ed20d51646"
      },
      "execution_count": 85,
      "outputs": [
        {
          "output_type": "display_data",
          "data": {
            "text/html": [
              "<html>\n",
              "<head><meta charset=\"utf-8\" /></head>\n",
              "<body>\n",
              "    <div>            <script src=\"https://cdnjs.cloudflare.com/ajax/libs/mathjax/2.7.5/MathJax.js?config=TeX-AMS-MML_SVG\"></script><script type=\"text/javascript\">if (window.MathJax) {MathJax.Hub.Config({SVG: {font: \"STIX-Web\"}});}</script>                <script type=\"text/javascript\">window.PlotlyConfig = {MathJaxConfig: 'local'};</script>\n",
              "        <script src=\"https://cdn.plot.ly/plotly-2.8.3.min.js\"></script>                <div id=\"84d2199d-9749-46c7-a3e1-676eca722ad6\" class=\"plotly-graph-div\" style=\"height:525px; width:100%;\"></div>            <script type=\"text/javascript\">                                    window.PLOTLYENV=window.PLOTLYENV || {};                                    if (document.getElementById(\"84d2199d-9749-46c7-a3e1-676eca722ad6\")) {                    Plotly.newPlot(                        \"84d2199d-9749-46c7-a3e1-676eca722ad6\",                        [{\"marker\":{\"color\":[0,0,0,0,0,1,0,0,0,0,0,0,0,0,0,0,0,0,0,0,0,0,0,0,0,0,0,0,0,0,0,0,1,0,0,0,0,1,0,0,0,0,0,1,0,0,0,0,0,0,0,0,0,1,0,0,0,1,1,0,0,0,0,0,1,1,0,0,0,0,0,0,0,0,0,0,0,0,0,0,0,1,0,0,0,0,1,0,0,1,0,0,0,1,1,0,0,0,0,0,1,1,0,0,0,1,0,0,0,0,0,0,0,0,1,1,0,0,0,0,0,0,0,0,0,0,0,0,0,0,0,0,0,0,0,0,0,0,0,0,0,0,0,0,1,0,0,0,0,1,0,0,1,1,0,0,0,0,0,1,0,0,0,0,0,0,0,0,0,0,0,0,1,0,0,0,0,0,0,0,0,1,1,0,0,0,0,0,0,0,0,0,1,0,0,1,0,0,0,1,0,0,0,0,0,0,0,0,0,0,0,0,0,1,0,0,0,0,0,0,0,0,0,0,0],\"line\":{\"color\":[0,0,0,0,0,1,0,0,0,0,0,0,0,0,0,0,0,0,0,0,0,0,0,0,0,0,0,0,0,0,0,0,1,0,0,0,0,1,0,0,0,0,0,1,0,0,0,0,0,0,0,0,0,1,0,0,0,1,1,0,0,0,0,0,1,1,0,0,0,0,0,0,0,0,0,0,0,0,0,0,0,1,0,0,0,0,1,0,0,1,0,0,0,1,1,0,0,0,0,0,1,1,0,0,0,1,0,0,0,0,0,0,0,0,1,1,0,0,0,0,0,0,0,0,0,0,0,0,0,0,0,0,0,0,0,0,0,0,0,0,0,0,0,0,1,0,0,0,0,1,0,0,1,1,0,0,0,0,0,1,0,0,0,0,0,0,0,0,0,0,0,0,1,0,0,0,0,0,0,0,0,1,1,0,0,0,0,0,0,0,0,0,1,0,0,1,0,0,0,1,0,0,0,0,0,0,0,0,0,0,0,0,0,1,0,0,0,0,0,0,0,0,0,0,0],\"width\":5},\"opacity\":0.9,\"size\":10},\"mode\":\"markers\",\"x\":[9,6,11,8,11,28,5,3,16,9,4,7,13,5,4,5,1,12,15,2,7,15,14,6,3,6,12,2,11,10,9,5,23,3,8,1,6,34,9,10,7,8,3,26,3,3,13,9,10,9,7,3,4,24,15,11,12,37,40,6,6,12,11,11,18,23,4,3,15,6,6,4,11,5,2,5,10,4,4,6,6,20,6,3,3,11,30,4,9,30,8,1,4,37,24,7,6,4,11,6,18,33,8,2,11,19,16,4,4,10,11,11,8,8,35,17,12,3,5,2,4,2,8,4,9,7,2,6,13,6,2,4,2,6,9,11,5,8,12,3,10,3,10,2,21,1,13,17,16,33,2,1,19,19,4,9,7,7,7,35,12,5,6,6,1,1,5,11,5,6,6,11,26,8,3,3,3,13,14,9,13,20,49,4,6,8,5,13,7,14,4,5,22,10,7,25,11,2,14,17,3,1,13,6,8,8,5,2,1,6,9,3,4,21,14,11,2,4,13,2,12,4,9,4,8],\"y\":[9.183673469,5.660377358,10.37735849,7.547169811,9.016393443,19.67213115,4.716981132,2.830188679,15.09433962,8.490566038,3.773584906,7.142857143,13.26530612,5.102040816,4.081632653,4.716981132,0.943396226,11.32075472,15.09433962,2.040816327,6.603773585,15.30612245,13.20754717,5.660377358,2.830188679,5.660377358,12.24489796,1.639344262,10.37735849,9.433962264,8.490566038,6.12244898,21.69811321,2.830188679,7.547169811,1.020408163,4.918032787,32.0754717,8.490566038,9.433962264,6.603773585,7.547169811,2.830188679,20.49180328,2.830188679,3.06122449,13.26530612,7.547169811,9.433962264,7.37704918,6.603773585,2.830188679,4.081632653,22.64150943,14.1509434,10.37735849,12.26415094,34.90566038,37.73584906,5.660377358,6.12244898,11.32075472,11.2244898,10.37735849,16.03773585,18.85245902,3.773584906,2.830188679,16.32653061,5.660377358,6.603773585,4.081632653,10.37735849,6.603773585,1.886792453,6.12244898,9.433962264,3.773584906,3.773584906,5.660377358,4.716981132,20.40816327,6.12244898,1.886792453,2.830188679,8.196721311,30.6122449,3.773584906,8.490566038,32.65306122,7.547169811,0.819672131,3.773584906,34.90566038,22.64150943,6.603773585,5.660377358,3.773584906,11.2244898,6.12244898,18.86792453,31.13207547,9.433962264,1.886792453,10.37735849,16.98113208,15.09433962,4.081632653,3.773584906,9.433962264,11.2244898,11.2244898,7.547169811,7.547169811,34.90566038,16.03773585,11.32075472,3.06122449,4.716981132,2.040816327,3.773584906,1.886792453,7.547169811,3.773584906,8.490566038,6.603773585,1.886792453,5.660377358,12.26415094,5.660377358,2.040816327,4.081632653,1.886792453,6.12244898,8.490566038,10.37735849,6.12244898,8.490566038,11.32075472,2.830188679,9.433962264,2.830188679,9.433962264,1.886792453,19.81132075,1.020408163,13.26530612,13.93442623,15.09433962,27.04918033,2.040816327,1.020408163,19.3877551,17.9245283,4.081632653,8.490566038,7.142857143,6.603773585,7.142857143,33.01886792,11.32075472,4.716981132,4.918032787,5.660377358,1.020408163,0.943396226,4.716981132,10.37735849,4.716981132,5.660377358,6.12244898,10.37735849,24.52830189,7.547169811,2.830188679,2.830188679,3.06122449,10.6557377,13.20754717,8.490566038,12.26415094,18.86792453,48.11320755,3.773584906,5.660377358,8.163265306,4.716981132,13.26530612,6.603773585,14.1509434,2.040816327,4.716981132,20.75471698,9.433962264,5.737704918,23.58490566,11.2244898,1.886792453,13.20754717,17.34693878,2.830188679,0.943396226,13.26530612,5.660377358,7.547169811,7.547169811,4.098360656,1.886792453,1.020408163,6.12244898,9.183673469,2.830188679,3.773584906,23.46938776,13.20754717,10.37735849,1.886792453,3.773584906,12.26415094,1.886792453,11.32075472,3.773584906,9.183673469,3.773584906,7.547169811],\"z\":[9.98239770538,5.87231818569,10.7659166738,7.82975758092,9.51167904482,24.2115466595,4.89359848807,2.93615909284,15.6595151618,7.82975758092,3.91487879046,7.76408710418,14.4190189078,5.54577650299,4.43662120239,4.89359848807,0.978719697615,10.7659166738,14.6807954642,2.2183106012,6.8510378833,16.637329509,13.7020757666,5.87231818569,2.93615909284,5.87231818569,13.3098636072,1.72939618997,10.7659166738,9.78719697615,8.80847727853,5.54577650299,22.5105530451,2.93615909284,7.82975758092,1.1091553006,5.1881885699,32.2977500213,7.82975758092,9.78719697615,6.8510378833,7.82975758092,2.93615909284,22.4821504696,2.93615909284,3.32746590179,14.4190189078,7.82975758092,9.78719697615,7.78228285485,6.8510378833,2.93615909284,4.43662120239,23.4892727428,13.7020757666,10.7659166738,11.7446363714,36.2126288117,39.1487879046,5.87231818569,6.65493180359,11.7446363714,12.2007083066,10.7659166738,16.6382348595,19.8880561846,3.91487879046,2.93615909284,16.637329509,5.87231818569,4.89359848807,4.43662120239,10.7659166738,4.89359848807,1.95743939523,5.54577650299,9.78719697615,3.91487879046,3.91487879046,5.87231818569,4.89359848807,22.183106012,6.65493180359,1.95743939523,2.93615909284,9.51167904482,32.1655037173,3.91487879046,8.80847727853,33.2746590179,7.82975758092,0.864698094984,3.91487879046,36.2126288117,23.4892727428,6.8510378833,5.87231818569,3.91487879046,12.2007083066,6.65493180359,17.6169545571,32.2977500213,7.82975758092,1.95743939523,9.78719697615,17.6169545571,15.6595151618,4.43662120239,3.91487879046,9.78719697615,12.2007083066,12.2007083066,7.82975758092,7.82975758092,34.2551894165,16.6382348595,11.7446363714,3.32746590179,4.89359848807,2.2183106012,3.91487879046,1.95743939523,7.82975758092,3.91487879046,8.80847727853,6.8510378833,1.95743939523,5.87231818569,12.723356069,5.87231818569,2.2183106012,4.43662120239,1.95743939523,6.65493180359,8.80847727853,10.7659166738,5.54577650299,7.82975758092,11.7446363714,2.93615909284,9.78719697615,2.93615909284,9.78719697615,1.95743939523,20.5531136499,1.1091553006,14.4190189078,14.6998676147,15.6595151618,28.5350371345,2.2183106012,1.1091553006,21.0739507114,18.5956742547,4.43662120239,8.80847727853,7.76408710418,6.8510378833,7.76408710418,34.2551894165,11.7446363714,4.89359848807,4.32349047492,5.87231818569,1.1091553006,0.978719697615,4.89359848807,10.7659166738,4.89359848807,5.87231818569,6.65493180359,10.7659166738,25.446712138,7.82975758092,2.93615909284,2.93615909284,3.32746590179,11.2410752348,13.7020757666,8.80847727853,12.723356069,19.5743939523,47.9572651831,3.91487879046,5.87231818569,8.87324240478,4.89359848807,14.4190189078,6.8510378833,13.7020757666,3.32746590179,4.89359848807,21.5318333475,9.78719697615,6.05288666489,24.4679924404,12.2007083066,1.95743939523,13.7020757666,18.8556401102,2.93615909284,0.978719697615,14.4190189078,5.87231818569,7.82975758092,7.82975758092,4.32349047492,1.95743939523,1.1091553006,6.65493180359,9.98239770538,2.93615909284,3.91487879046,23.2922613126,13.7020757666,10.7659166738,1.95743939523,3.91487879046,12.723356069,1.95743939523,11.7446363714,3.91487879046,9.98239770538,3.91487879046,7.82975758092],\"type\":\"scatter3d\"}],                        {\"scene\":{\"xaxis\":{\"title\":{\"text\":\"Mutation_Count\"}},\"yaxis\":{\"title\":{\"text\":\"Mutation_Rate\"}},\"zaxis\":{\"title\":{\"text\":\"TMB\"}}},\"template\":{\"data\":{\"barpolar\":[{\"marker\":{\"line\":{\"color\":\"#E5ECF6\",\"width\":0.5},\"pattern\":{\"fillmode\":\"overlay\",\"size\":10,\"solidity\":0.2}},\"type\":\"barpolar\"}],\"bar\":[{\"error_x\":{\"color\":\"#2a3f5f\"},\"error_y\":{\"color\":\"#2a3f5f\"},\"marker\":{\"line\":{\"color\":\"#E5ECF6\",\"width\":0.5},\"pattern\":{\"fillmode\":\"overlay\",\"size\":10,\"solidity\":0.2}},\"type\":\"bar\"}],\"carpet\":[{\"aaxis\":{\"endlinecolor\":\"#2a3f5f\",\"gridcolor\":\"white\",\"linecolor\":\"white\",\"minorgridcolor\":\"white\",\"startlinecolor\":\"#2a3f5f\"},\"baxis\":{\"endlinecolor\":\"#2a3f5f\",\"gridcolor\":\"white\",\"linecolor\":\"white\",\"minorgridcolor\":\"white\",\"startlinecolor\":\"#2a3f5f\"},\"type\":\"carpet\"}],\"choropleth\":[{\"colorbar\":{\"outlinewidth\":0,\"ticks\":\"\"},\"type\":\"choropleth\"}],\"contourcarpet\":[{\"colorbar\":{\"outlinewidth\":0,\"ticks\":\"\"},\"type\":\"contourcarpet\"}],\"contour\":[{\"colorbar\":{\"outlinewidth\":0,\"ticks\":\"\"},\"colorscale\":[[0.0,\"#0d0887\"],[0.1111111111111111,\"#46039f\"],[0.2222222222222222,\"#7201a8\"],[0.3333333333333333,\"#9c179e\"],[0.4444444444444444,\"#bd3786\"],[0.5555555555555556,\"#d8576b\"],[0.6666666666666666,\"#ed7953\"],[0.7777777777777778,\"#fb9f3a\"],[0.8888888888888888,\"#fdca26\"],[1.0,\"#f0f921\"]],\"type\":\"contour\"}],\"heatmapgl\":[{\"colorbar\":{\"outlinewidth\":0,\"ticks\":\"\"},\"colorscale\":[[0.0,\"#0d0887\"],[0.1111111111111111,\"#46039f\"],[0.2222222222222222,\"#7201a8\"],[0.3333333333333333,\"#9c179e\"],[0.4444444444444444,\"#bd3786\"],[0.5555555555555556,\"#d8576b\"],[0.6666666666666666,\"#ed7953\"],[0.7777777777777778,\"#fb9f3a\"],[0.8888888888888888,\"#fdca26\"],[1.0,\"#f0f921\"]],\"type\":\"heatmapgl\"}],\"heatmap\":[{\"colorbar\":{\"outlinewidth\":0,\"ticks\":\"\"},\"colorscale\":[[0.0,\"#0d0887\"],[0.1111111111111111,\"#46039f\"],[0.2222222222222222,\"#7201a8\"],[0.3333333333333333,\"#9c179e\"],[0.4444444444444444,\"#bd3786\"],[0.5555555555555556,\"#d8576b\"],[0.6666666666666666,\"#ed7953\"],[0.7777777777777778,\"#fb9f3a\"],[0.8888888888888888,\"#fdca26\"],[1.0,\"#f0f921\"]],\"type\":\"heatmap\"}],\"histogram2dcontour\":[{\"colorbar\":{\"outlinewidth\":0,\"ticks\":\"\"},\"colorscale\":[[0.0,\"#0d0887\"],[0.1111111111111111,\"#46039f\"],[0.2222222222222222,\"#7201a8\"],[0.3333333333333333,\"#9c179e\"],[0.4444444444444444,\"#bd3786\"],[0.5555555555555556,\"#d8576b\"],[0.6666666666666666,\"#ed7953\"],[0.7777777777777778,\"#fb9f3a\"],[0.8888888888888888,\"#fdca26\"],[1.0,\"#f0f921\"]],\"type\":\"histogram2dcontour\"}],\"histogram2d\":[{\"colorbar\":{\"outlinewidth\":0,\"ticks\":\"\"},\"colorscale\":[[0.0,\"#0d0887\"],[0.1111111111111111,\"#46039f\"],[0.2222222222222222,\"#7201a8\"],[0.3333333333333333,\"#9c179e\"],[0.4444444444444444,\"#bd3786\"],[0.5555555555555556,\"#d8576b\"],[0.6666666666666666,\"#ed7953\"],[0.7777777777777778,\"#fb9f3a\"],[0.8888888888888888,\"#fdca26\"],[1.0,\"#f0f921\"]],\"type\":\"histogram2d\"}],\"histogram\":[{\"marker\":{\"pattern\":{\"fillmode\":\"overlay\",\"size\":10,\"solidity\":0.2}},\"type\":\"histogram\"}],\"mesh3d\":[{\"colorbar\":{\"outlinewidth\":0,\"ticks\":\"\"},\"type\":\"mesh3d\"}],\"parcoords\":[{\"line\":{\"colorbar\":{\"outlinewidth\":0,\"ticks\":\"\"}},\"type\":\"parcoords\"}],\"pie\":[{\"automargin\":true,\"type\":\"pie\"}],\"scatter3d\":[{\"line\":{\"colorbar\":{\"outlinewidth\":0,\"ticks\":\"\"}},\"marker\":{\"colorbar\":{\"outlinewidth\":0,\"ticks\":\"\"}},\"type\":\"scatter3d\"}],\"scattercarpet\":[{\"marker\":{\"colorbar\":{\"outlinewidth\":0,\"ticks\":\"\"}},\"type\":\"scattercarpet\"}],\"scattergeo\":[{\"marker\":{\"colorbar\":{\"outlinewidth\":0,\"ticks\":\"\"}},\"type\":\"scattergeo\"}],\"scattergl\":[{\"marker\":{\"colorbar\":{\"outlinewidth\":0,\"ticks\":\"\"}},\"type\":\"scattergl\"}],\"scattermapbox\":[{\"marker\":{\"colorbar\":{\"outlinewidth\":0,\"ticks\":\"\"}},\"type\":\"scattermapbox\"}],\"scatterpolargl\":[{\"marker\":{\"colorbar\":{\"outlinewidth\":0,\"ticks\":\"\"}},\"type\":\"scatterpolargl\"}],\"scatterpolar\":[{\"marker\":{\"colorbar\":{\"outlinewidth\":0,\"ticks\":\"\"}},\"type\":\"scatterpolar\"}],\"scatter\":[{\"marker\":{\"colorbar\":{\"outlinewidth\":0,\"ticks\":\"\"}},\"type\":\"scatter\"}],\"scatterternary\":[{\"marker\":{\"colorbar\":{\"outlinewidth\":0,\"ticks\":\"\"}},\"type\":\"scatterternary\"}],\"surface\":[{\"colorbar\":{\"outlinewidth\":0,\"ticks\":\"\"},\"colorscale\":[[0.0,\"#0d0887\"],[0.1111111111111111,\"#46039f\"],[0.2222222222222222,\"#7201a8\"],[0.3333333333333333,\"#9c179e\"],[0.4444444444444444,\"#bd3786\"],[0.5555555555555556,\"#d8576b\"],[0.6666666666666666,\"#ed7953\"],[0.7777777777777778,\"#fb9f3a\"],[0.8888888888888888,\"#fdca26\"],[1.0,\"#f0f921\"]],\"type\":\"surface\"}],\"table\":[{\"cells\":{\"fill\":{\"color\":\"#EBF0F8\"},\"line\":{\"color\":\"white\"}},\"header\":{\"fill\":{\"color\":\"#C8D4E3\"},\"line\":{\"color\":\"white\"}},\"type\":\"table\"}]},\"layout\":{\"annotationdefaults\":{\"arrowcolor\":\"#2a3f5f\",\"arrowhead\":0,\"arrowwidth\":1},\"autotypenumbers\":\"strict\",\"coloraxis\":{\"colorbar\":{\"outlinewidth\":0,\"ticks\":\"\"}},\"colorscale\":{\"diverging\":[[0,\"#8e0152\"],[0.1,\"#c51b7d\"],[0.2,\"#de77ae\"],[0.3,\"#f1b6da\"],[0.4,\"#fde0ef\"],[0.5,\"#f7f7f7\"],[0.6,\"#e6f5d0\"],[0.7,\"#b8e186\"],[0.8,\"#7fbc41\"],[0.9,\"#4d9221\"],[1,\"#276419\"]],\"sequential\":[[0.0,\"#0d0887\"],[0.1111111111111111,\"#46039f\"],[0.2222222222222222,\"#7201a8\"],[0.3333333333333333,\"#9c179e\"],[0.4444444444444444,\"#bd3786\"],[0.5555555555555556,\"#d8576b\"],[0.6666666666666666,\"#ed7953\"],[0.7777777777777778,\"#fb9f3a\"],[0.8888888888888888,\"#fdca26\"],[1.0,\"#f0f921\"]],\"sequentialminus\":[[0.0,\"#0d0887\"],[0.1111111111111111,\"#46039f\"],[0.2222222222222222,\"#7201a8\"],[0.3333333333333333,\"#9c179e\"],[0.4444444444444444,\"#bd3786\"],[0.5555555555555556,\"#d8576b\"],[0.6666666666666666,\"#ed7953\"],[0.7777777777777778,\"#fb9f3a\"],[0.8888888888888888,\"#fdca26\"],[1.0,\"#f0f921\"]]},\"colorway\":[\"#636efa\",\"#EF553B\",\"#00cc96\",\"#ab63fa\",\"#FFA15A\",\"#19d3f3\",\"#FF6692\",\"#B6E880\",\"#FF97FF\",\"#FECB52\"],\"font\":{\"color\":\"#2a3f5f\"},\"geo\":{\"bgcolor\":\"white\",\"lakecolor\":\"white\",\"landcolor\":\"#E5ECF6\",\"showlakes\":true,\"showland\":true,\"subunitcolor\":\"white\"},\"hoverlabel\":{\"align\":\"left\"},\"hovermode\":\"closest\",\"mapbox\":{\"style\":\"light\"},\"paper_bgcolor\":\"white\",\"plot_bgcolor\":\"#E5ECF6\",\"polar\":{\"angularaxis\":{\"gridcolor\":\"white\",\"linecolor\":\"white\",\"ticks\":\"\"},\"bgcolor\":\"#E5ECF6\",\"radialaxis\":{\"gridcolor\":\"white\",\"linecolor\":\"white\",\"ticks\":\"\"}},\"scene\":{\"xaxis\":{\"backgroundcolor\":\"#E5ECF6\",\"gridcolor\":\"white\",\"gridwidth\":2,\"linecolor\":\"white\",\"showbackground\":true,\"ticks\":\"\",\"zerolinecolor\":\"white\"},\"yaxis\":{\"backgroundcolor\":\"#E5ECF6\",\"gridcolor\":\"white\",\"gridwidth\":2,\"linecolor\":\"white\",\"showbackground\":true,\"ticks\":\"\",\"zerolinecolor\":\"white\"},\"zaxis\":{\"backgroundcolor\":\"#E5ECF6\",\"gridcolor\":\"white\",\"gridwidth\":2,\"linecolor\":\"white\",\"showbackground\":true,\"ticks\":\"\",\"zerolinecolor\":\"white\"}},\"shapedefaults\":{\"line\":{\"color\":\"#2a3f5f\"}},\"ternary\":{\"aaxis\":{\"gridcolor\":\"white\",\"linecolor\":\"white\",\"ticks\":\"\"},\"baxis\":{\"gridcolor\":\"white\",\"linecolor\":\"white\",\"ticks\":\"\"},\"bgcolor\":\"#E5ECF6\",\"caxis\":{\"gridcolor\":\"white\",\"linecolor\":\"white\",\"ticks\":\"\"}},\"title\":{\"x\":0.05},\"xaxis\":{\"automargin\":true,\"gridcolor\":\"white\",\"linecolor\":\"white\",\"ticks\":\"\",\"title\":{\"standoff\":15},\"zerolinecolor\":\"white\",\"zerolinewidth\":2},\"yaxis\":{\"automargin\":true,\"gridcolor\":\"white\",\"linecolor\":\"white\",\"ticks\":\"\",\"title\":{\"standoff\":15},\"zerolinecolor\":\"white\",\"zerolinewidth\":2}}},\"title\":{\"text\":\"Clusters\"}},                        {\"responsive\": true}                    ).then(function(){\n",
              "                            \n",
              "var gd = document.getElementById('84d2199d-9749-46c7-a3e1-676eca722ad6');\n",
              "var x = new MutationObserver(function (mutations, observer) {{\n",
              "        var display = window.getComputedStyle(gd).display;\n",
              "        if (!display || display === 'none') {{\n",
              "            console.log([gd, 'removed!']);\n",
              "            Plotly.purge(gd);\n",
              "            observer.disconnect();\n",
              "        }}\n",
              "}});\n",
              "\n",
              "// Listen for the removal of the full notebook cells\n",
              "var notebookContainer = gd.closest('#notebook-container');\n",
              "if (notebookContainer) {{\n",
              "    x.observe(notebookContainer, {childList: true});\n",
              "}}\n",
              "\n",
              "// Listen for the clearing of the current output cell\n",
              "var outputEl = gd.closest('.output');\n",
              "if (outputEl) {{\n",
              "    x.observe(outputEl, {childList: true});\n",
              "}}\n",
              "\n",
              "                        })                };                            </script>        </div>\n",
              "</body>\n",
              "</html>"
            ]
          },
          "metadata": {}
        }
      ]
    }
  ]
}