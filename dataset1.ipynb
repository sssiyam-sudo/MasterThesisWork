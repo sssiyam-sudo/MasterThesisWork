{
  "nbformat": 4,
  "nbformat_minor": 0,
  "metadata": {
    "colab": {
      "provenance": [],
      "mount_file_id": "1I-luXVXCwkuVaexfxmIqVXNDOW__Mzdj",
      "authorship_tag": "ABX9TyMN/qVshpH+t6jvabGe6iCH",
      "include_colab_link": true
    },
    "kernelspec": {
      "name": "python3",
      "display_name": "Python 3"
    },
    "language_info": {
      "name": "python"
    }
  },
  "cells": [
    {
      "cell_type": "markdown",
      "metadata": {
        "id": "view-in-github",
        "colab_type": "text"
      },
      "source": [
        "<a href=\"https://colab.research.google.com/github/sssiyam-sudo/MasterThesisWork/blob/main/dataset1.ipynb\" target=\"_parent\"><img src=\"https://colab.research.google.com/assets/colab-badge.svg\" alt=\"Open In Colab\"/></a>"
      ]
    },
    {
      "cell_type": "markdown",
      "source": [
        "Importing all the necessary libraries & packages."
      ],
      "metadata": {
        "id": "Q1bSVLVYcy8a"
      }
    },
    {
      "cell_type": "code",
      "execution_count": null,
      "metadata": {
        "id": "ct6PLWOD9jif"
      },
      "outputs": [],
      "source": [
        "import os\n",
        "import pandas as pd\n",
        "import numpy as np\n",
        "from math import sqrt\n",
        "import seaborn as sns\n",
        "import missingno as msno\n",
        "import matplotlib.pyplot as plt\n",
        "from imblearn.over_sampling import SMOTE\n",
        "\n",
        "from sklearn.model_selection import train_test_split\n",
        "from sklearn import preprocessing , metrics , model_selection\n",
        "from sklearn.metrics import confusion_matrix , accuracy_score\n",
        "from sklearn.feature_selection import SelectKBest ,chi2\n",
        "from sklearn.metrics import mean_squared_error , classification_report \n",
        "\n",
        "from sklearn.linear_model import LogisticRegression\n",
        "from sklearn.naive_bayes import GaussianNB\n",
        "from sklearn.tree import DecisionTreeClassifier\n",
        "from sklearn.ensemble import RandomForestClassifier\n",
        "from sklearn.svm import SVC\n",
        "from sklearn.neighbors import KNeighborsClassifier\n",
        "from sklearn.model_selection import KFold , ShuffleSplit"
      ]
    },
    {
      "cell_type": "code",
      "source": [
        "df = pd.read_csv('/content/drive/MyDrive/ThesisWork/nsclc_pd1_msk_2018_clinical_data.tsv', sep='\\t')"
      ],
      "metadata": {
        "id": "hw-ch9vl9r7-"
      },
      "execution_count": null,
      "outputs": []
    },
    {
      "cell_type": "markdown",
      "source": [
        "#-----------------\n",
        "#-----------------\n",
        "#-----------------"
      ],
      "metadata": {
        "id": "X0V_HDWydENV"
      }
    },
    {
      "cell_type": "markdown",
      "source": [
        "-------------------------------------\n",
        "## **Data exploration and cleaning.**\n",
        "-------------------------------------"
      ],
      "metadata": {
        "id": "wdM-62D2RaXF"
      }
    },
    {
      "cell_type": "code",
      "source": [
        "df.head()"
      ],
      "metadata": {
        "id": "9R8KqCDdV65u",
        "colab": {
          "base_uri": "https://localhost:8080/",
          "height": 716
        },
        "outputId": "f5e19baa-88d2-49bf-959f-cbc3e2c59697"
      },
      "execution_count": null,
      "outputs": [
        {
          "output_type": "execute_result",
          "data": {
            "text/plain": [
              "             Study ID Patient ID          Sample ID  Diagnosis Age  \\\n",
              "0  nsclc_pd1_msk_2018  P-0000012  P-0000012-T03-IM3             58   \n",
              "1  nsclc_pd1_msk_2018  P-0000082  P-0000082-T01-IM3             60   \n",
              "2  nsclc_pd1_msk_2018  P-0000208  P-0000208-T01-IM3             68   \n",
              "3  nsclc_pd1_msk_2018  P-0000235  P-0000235-T01-IM3             77   \n",
              "4  nsclc_pd1_msk_2018  P-0000299  P-0000299-T01-IM3             66   \n",
              "\n",
              "                  Cancer Type                 Cancer Type Detailed  \\\n",
              "0  Non-Small Cell Lung Cancer                  Lung Adenocarcinoma   \n",
              "1  Non-Small Cell Lung Cancer                  Lung Adenocarcinoma   \n",
              "2  Non-Small Cell Lung Cancer                  Lung Adenocarcinoma   \n",
              "3  Non-Small Cell Lung Cancer         Lung Squamous Cell Carcinoma   \n",
              "4  Non-Small Cell Lung Cancer  Large Cell Neuroendocrine Carcinoma   \n",
              "\n",
              "  Durable Clinical Benefit   FGA  Fraction Genome Altered Gene Panel  ...  \\\n",
              "0                      YES  0.18                   0.1844  IMPACT341  ...   \n",
              "1                      YES  0.36                   0.3606  IMPACT341  ...   \n",
              "2                       NO  0.12                   0.1173  IMPACT341  ...   \n",
              "3                       NO  0.24                   0.2380  IMPACT341  ...   \n",
              "4                       NO  0.01                   0.0051  IMPACT341  ...   \n",
              "\n",
              "  Oncotree Code  PD-L1 Score (%)  Progress Free Survival (Months)  \\\n",
              "0          LUAD              NaN                            27.20   \n",
              "1          LUAD            100.0                            14.50   \n",
              "2          LUAD              3.0                             4.17   \n",
              "3          LUSC              NaN                             0.60   \n",
              "4          LUNE              NaN                             1.63   \n",
              "\n",
              "   Progression Free Status Number of Samples Per Patient     Sex  Smoker  \\\n",
              "0         0:Not Progressed                             1  Female    Ever   \n",
              "1             1:Progressed                             1    Male    Ever   \n",
              "2             1:Progressed                             1  Female    Ever   \n",
              "3             1:Progressed                             1    Male    Ever   \n",
              "4             1:Progressed                             1    Male    Ever   \n",
              "\n",
              "  Somatic Status  TMB (nonsynonymous) Treatment Type  \n",
              "0        Matched            32.165504    Combination  \n",
              "1        Matched             1.109155    Monotherapy  \n",
              "2        Matched             2.218311    Monotherapy  \n",
              "3        Matched             8.873242    Monotherapy  \n",
              "4        Matched             7.764087    Combination  \n",
              "\n",
              "[5 rows x 24 columns]"
            ],
            "text/html": [
              "\n",
              "  <div id=\"df-2186b956-50ac-4dc9-b42c-d1c9a5eb130b\">\n",
              "    <div class=\"colab-df-container\">\n",
              "      <div>\n",
              "<style scoped>\n",
              "    .dataframe tbody tr th:only-of-type {\n",
              "        vertical-align: middle;\n",
              "    }\n",
              "\n",
              "    .dataframe tbody tr th {\n",
              "        vertical-align: top;\n",
              "    }\n",
              "\n",
              "    .dataframe thead th {\n",
              "        text-align: right;\n",
              "    }\n",
              "</style>\n",
              "<table border=\"1\" class=\"dataframe\">\n",
              "  <thead>\n",
              "    <tr style=\"text-align: right;\">\n",
              "      <th></th>\n",
              "      <th>Study ID</th>\n",
              "      <th>Patient ID</th>\n",
              "      <th>Sample ID</th>\n",
              "      <th>Diagnosis Age</th>\n",
              "      <th>Cancer Type</th>\n",
              "      <th>Cancer Type Detailed</th>\n",
              "      <th>Durable Clinical Benefit</th>\n",
              "      <th>FGA</th>\n",
              "      <th>Fraction Genome Altered</th>\n",
              "      <th>Gene Panel</th>\n",
              "      <th>...</th>\n",
              "      <th>Oncotree Code</th>\n",
              "      <th>PD-L1 Score (%)</th>\n",
              "      <th>Progress Free Survival (Months)</th>\n",
              "      <th>Progression Free Status</th>\n",
              "      <th>Number of Samples Per Patient</th>\n",
              "      <th>Sex</th>\n",
              "      <th>Smoker</th>\n",
              "      <th>Somatic Status</th>\n",
              "      <th>TMB (nonsynonymous)</th>\n",
              "      <th>Treatment Type</th>\n",
              "    </tr>\n",
              "  </thead>\n",
              "  <tbody>\n",
              "    <tr>\n",
              "      <th>0</th>\n",
              "      <td>nsclc_pd1_msk_2018</td>\n",
              "      <td>P-0000012</td>\n",
              "      <td>P-0000012-T03-IM3</td>\n",
              "      <td>58</td>\n",
              "      <td>Non-Small Cell Lung Cancer</td>\n",
              "      <td>Lung Adenocarcinoma</td>\n",
              "      <td>YES</td>\n",
              "      <td>0.18</td>\n",
              "      <td>0.1844</td>\n",
              "      <td>IMPACT341</td>\n",
              "      <td>...</td>\n",
              "      <td>LUAD</td>\n",
              "      <td>NaN</td>\n",
              "      <td>27.20</td>\n",
              "      <td>0:Not Progressed</td>\n",
              "      <td>1</td>\n",
              "      <td>Female</td>\n",
              "      <td>Ever</td>\n",
              "      <td>Matched</td>\n",
              "      <td>32.165504</td>\n",
              "      <td>Combination</td>\n",
              "    </tr>\n",
              "    <tr>\n",
              "      <th>1</th>\n",
              "      <td>nsclc_pd1_msk_2018</td>\n",
              "      <td>P-0000082</td>\n",
              "      <td>P-0000082-T01-IM3</td>\n",
              "      <td>60</td>\n",
              "      <td>Non-Small Cell Lung Cancer</td>\n",
              "      <td>Lung Adenocarcinoma</td>\n",
              "      <td>YES</td>\n",
              "      <td>0.36</td>\n",
              "      <td>0.3606</td>\n",
              "      <td>IMPACT341</td>\n",
              "      <td>...</td>\n",
              "      <td>LUAD</td>\n",
              "      <td>100.0</td>\n",
              "      <td>14.50</td>\n",
              "      <td>1:Progressed</td>\n",
              "      <td>1</td>\n",
              "      <td>Male</td>\n",
              "      <td>Ever</td>\n",
              "      <td>Matched</td>\n",
              "      <td>1.109155</td>\n",
              "      <td>Monotherapy</td>\n",
              "    </tr>\n",
              "    <tr>\n",
              "      <th>2</th>\n",
              "      <td>nsclc_pd1_msk_2018</td>\n",
              "      <td>P-0000208</td>\n",
              "      <td>P-0000208-T01-IM3</td>\n",
              "      <td>68</td>\n",
              "      <td>Non-Small Cell Lung Cancer</td>\n",
              "      <td>Lung Adenocarcinoma</td>\n",
              "      <td>NO</td>\n",
              "      <td>0.12</td>\n",
              "      <td>0.1173</td>\n",
              "      <td>IMPACT341</td>\n",
              "      <td>...</td>\n",
              "      <td>LUAD</td>\n",
              "      <td>3.0</td>\n",
              "      <td>4.17</td>\n",
              "      <td>1:Progressed</td>\n",
              "      <td>1</td>\n",
              "      <td>Female</td>\n",
              "      <td>Ever</td>\n",
              "      <td>Matched</td>\n",
              "      <td>2.218311</td>\n",
              "      <td>Monotherapy</td>\n",
              "    </tr>\n",
              "    <tr>\n",
              "      <th>3</th>\n",
              "      <td>nsclc_pd1_msk_2018</td>\n",
              "      <td>P-0000235</td>\n",
              "      <td>P-0000235-T01-IM3</td>\n",
              "      <td>77</td>\n",
              "      <td>Non-Small Cell Lung Cancer</td>\n",
              "      <td>Lung Squamous Cell Carcinoma</td>\n",
              "      <td>NO</td>\n",
              "      <td>0.24</td>\n",
              "      <td>0.2380</td>\n",
              "      <td>IMPACT341</td>\n",
              "      <td>...</td>\n",
              "      <td>LUSC</td>\n",
              "      <td>NaN</td>\n",
              "      <td>0.60</td>\n",
              "      <td>1:Progressed</td>\n",
              "      <td>1</td>\n",
              "      <td>Male</td>\n",
              "      <td>Ever</td>\n",
              "      <td>Matched</td>\n",
              "      <td>8.873242</td>\n",
              "      <td>Monotherapy</td>\n",
              "    </tr>\n",
              "    <tr>\n",
              "      <th>4</th>\n",
              "      <td>nsclc_pd1_msk_2018</td>\n",
              "      <td>P-0000299</td>\n",
              "      <td>P-0000299-T01-IM3</td>\n",
              "      <td>66</td>\n",
              "      <td>Non-Small Cell Lung Cancer</td>\n",
              "      <td>Large Cell Neuroendocrine Carcinoma</td>\n",
              "      <td>NO</td>\n",
              "      <td>0.01</td>\n",
              "      <td>0.0051</td>\n",
              "      <td>IMPACT341</td>\n",
              "      <td>...</td>\n",
              "      <td>LUNE</td>\n",
              "      <td>NaN</td>\n",
              "      <td>1.63</td>\n",
              "      <td>1:Progressed</td>\n",
              "      <td>1</td>\n",
              "      <td>Male</td>\n",
              "      <td>Ever</td>\n",
              "      <td>Matched</td>\n",
              "      <td>7.764087</td>\n",
              "      <td>Combination</td>\n",
              "    </tr>\n",
              "  </tbody>\n",
              "</table>\n",
              "<p>5 rows × 24 columns</p>\n",
              "</div>\n",
              "      <button class=\"colab-df-convert\" onclick=\"convertToInteractive('df-2186b956-50ac-4dc9-b42c-d1c9a5eb130b')\"\n",
              "              title=\"Convert this dataframe to an interactive table.\"\n",
              "              style=\"display:none;\">\n",
              "        \n",
              "  <svg xmlns=\"http://www.w3.org/2000/svg\" height=\"24px\"viewBox=\"0 0 24 24\"\n",
              "       width=\"24px\">\n",
              "    <path d=\"M0 0h24v24H0V0z\" fill=\"none\"/>\n",
              "    <path d=\"M18.56 5.44l.94 2.06.94-2.06 2.06-.94-2.06-.94-.94-2.06-.94 2.06-2.06.94zm-11 1L8.5 8.5l.94-2.06 2.06-.94-2.06-.94L8.5 2.5l-.94 2.06-2.06.94zm10 10l.94 2.06.94-2.06 2.06-.94-2.06-.94-.94-2.06-.94 2.06-2.06.94z\"/><path d=\"M17.41 7.96l-1.37-1.37c-.4-.4-.92-.59-1.43-.59-.52 0-1.04.2-1.43.59L10.3 9.45l-7.72 7.72c-.78.78-.78 2.05 0 2.83L4 21.41c.39.39.9.59 1.41.59.51 0 1.02-.2 1.41-.59l7.78-7.78 2.81-2.81c.8-.78.8-2.07 0-2.86zM5.41 20L4 18.59l7.72-7.72 1.47 1.35L5.41 20z\"/>\n",
              "  </svg>\n",
              "      </button>\n",
              "      \n",
              "  <style>\n",
              "    .colab-df-container {\n",
              "      display:flex;\n",
              "      flex-wrap:wrap;\n",
              "      gap: 12px;\n",
              "    }\n",
              "\n",
              "    .colab-df-convert {\n",
              "      background-color: #E8F0FE;\n",
              "      border: none;\n",
              "      border-radius: 50%;\n",
              "      cursor: pointer;\n",
              "      display: none;\n",
              "      fill: #1967D2;\n",
              "      height: 32px;\n",
              "      padding: 0 0 0 0;\n",
              "      width: 32px;\n",
              "    }\n",
              "\n",
              "    .colab-df-convert:hover {\n",
              "      background-color: #E2EBFA;\n",
              "      box-shadow: 0px 1px 2px rgba(60, 64, 67, 0.3), 0px 1px 3px 1px rgba(60, 64, 67, 0.15);\n",
              "      fill: #174EA6;\n",
              "    }\n",
              "\n",
              "    [theme=dark] .colab-df-convert {\n",
              "      background-color: #3B4455;\n",
              "      fill: #D2E3FC;\n",
              "    }\n",
              "\n",
              "    [theme=dark] .colab-df-convert:hover {\n",
              "      background-color: #434B5C;\n",
              "      box-shadow: 0px 1px 3px 1px rgba(0, 0, 0, 0.15);\n",
              "      filter: drop-shadow(0px 1px 2px rgba(0, 0, 0, 0.3));\n",
              "      fill: #FFFFFF;\n",
              "    }\n",
              "  </style>\n",
              "\n",
              "      <script>\n",
              "        const buttonEl =\n",
              "          document.querySelector('#df-2186b956-50ac-4dc9-b42c-d1c9a5eb130b button.colab-df-convert');\n",
              "        buttonEl.style.display =\n",
              "          google.colab.kernel.accessAllowed ? 'block' : 'none';\n",
              "\n",
              "        async function convertToInteractive(key) {\n",
              "          const element = document.querySelector('#df-2186b956-50ac-4dc9-b42c-d1c9a5eb130b');\n",
              "          const dataTable =\n",
              "            await google.colab.kernel.invokeFunction('convertToInteractive',\n",
              "                                                     [key], {});\n",
              "          if (!dataTable) return;\n",
              "\n",
              "          const docLinkHtml = 'Like what you see? Visit the ' +\n",
              "            '<a target=\"_blank\" href=https://colab.research.google.com/notebooks/data_table.ipynb>data table notebook</a>'\n",
              "            + ' to learn more about interactive tables.';\n",
              "          element.innerHTML = '';\n",
              "          dataTable['output_type'] = 'display_data';\n",
              "          await google.colab.output.renderOutput(dataTable, element);\n",
              "          const docLink = document.createElement('div');\n",
              "          docLink.innerHTML = docLinkHtml;\n",
              "          element.appendChild(docLink);\n",
              "        }\n",
              "      </script>\n",
              "    </div>\n",
              "  </div>\n",
              "  "
            ]
          },
          "metadata": {},
          "execution_count": 3
        }
      ]
    },
    {
      "cell_type": "code",
      "source": [
        "df.rename(columns = {'Study ID':'Study_ID', 'Patient ID':'Patient_ID',\n",
        "                     'Sample ID':'Sample_ID' , 'Diagnosis Age':'Diagnosis_Age' ,\n",
        "                     'Cancer Type':'Cancer_Type' , 'Cancer Type Detailed':'Cancer_Type_Detailed' ,\n",
        "                     'Durable Clinical Benefit':'Durable_Clinical_Benefit' , 'FGA':'FGA' , \n",
        "                     'Fraction Genome Altered':'Fraction_Genome_Altered' , 'Gene Panel':'Gene_Panel',\n",
        "                     'Lines of treatment':'Lines_of_treatment' , 'Mutation Count':'Mutation_Count' , \n",
        "                     'Mutation Rate':'Mutation_Rate' , 'Oncotree Code':'Oncotree_Code', \n",
        "                     'PD-L1 Score (%)':'PD-L1Score%' , 'Progress Free Survival (Months)':'ProgressFreeSurvival_Months' ,\n",
        "                     'Progression Free Status':'ProgressionFreeStatus' ,\n",
        "                     'Number of Samples Per Patient':'Number_of_Samples_Per_Patient' , 'Sex':'Gender' ,\n",
        "                     'Smoker':'Smoker' , 'Somatic Status':'Somatic_Status' , 'TMB (nonsynonymous)':'TMB(nonsynonymous)',\n",
        "                     'Treatment Type':'Treatment_Type'}, inplace = True)"
      ],
      "metadata": {
        "id": "ATBp0o0Cxoge"
      },
      "execution_count": null,
      "outputs": []
    },
    {
      "cell_type": "code",
      "source": [
        "print(df.info())"
      ],
      "metadata": {
        "colab": {
          "base_uri": "https://localhost:8080/"
        },
        "id": "5vsSoRfhoNkw",
        "outputId": "25650f31-e462-4090-dced-3cec279dd78c"
      },
      "execution_count": null,
      "outputs": [
        {
          "output_type": "stream",
          "name": "stdout",
          "text": [
            "<class 'pandas.core.frame.DataFrame'>\n",
            "RangeIndex: 240 entries, 0 to 239\n",
            "Data columns (total 24 columns):\n",
            " #   Column                         Non-Null Count  Dtype  \n",
            "---  ------                         --------------  -----  \n",
            " 0   Study_ID                       240 non-null    object \n",
            " 1   Patient_ID                     240 non-null    object \n",
            " 2   Sample_ID                      240 non-null    object \n",
            " 3   Diagnosis_Age                  240 non-null    int64  \n",
            " 4   Cancer_Type                    240 non-null    object \n",
            " 5   Cancer_Type_Detailed           240 non-null    object \n",
            " 6   Durable_Clinical_Benefit       240 non-null    object \n",
            " 7   FGA                            240 non-null    float64\n",
            " 8   Fraction_Genome_Altered        240 non-null    float64\n",
            " 9   Gene_Panel                     240 non-null    object \n",
            " 10  IRB                            240 non-null    object \n",
            " 11  Lines_of_treatment             240 non-null    int64  \n",
            " 12  Mutation_Count                 240 non-null    int64  \n",
            " 13  Mutation_Rate                  240 non-null    float64\n",
            " 14  Oncotree_Code                  240 non-null    object \n",
            " 15  PD-L1Score%                    86 non-null     float64\n",
            " 16  ProgressFreeSurvival_Months    240 non-null    float64\n",
            " 17  ProgressionFreeStatus          240 non-null    object \n",
            " 18  Number_of_Samples_Per_Patient  240 non-null    int64  \n",
            " 19  Gender                         240 non-null    object \n",
            " 20  Smoker                         240 non-null    object \n",
            " 21  Somatic_Status                 240 non-null    object \n",
            " 22  TMB(nonsynonymous)             240 non-null    float64\n",
            " 23  Treatment_Type                 240 non-null    object \n",
            "dtypes: float64(6), int64(4), object(14)\n",
            "memory usage: 45.1+ KB\n",
            "None\n"
          ]
        }
      ]
    },
    {
      "cell_type": "code",
      "source": [
        "msno.matrix(df)"
      ],
      "metadata": {
        "colab": {
          "base_uri": "https://localhost:8080/",
          "height": 692
        },
        "id": "v7TNnEbnvznu",
        "outputId": "c1752f4a-1bfd-4a0a-bca8-51ae6e2be275"
      },
      "execution_count": null,
      "outputs": [
        {
          "output_type": "execute_result",
          "data": {
            "text/plain": [
              "<matplotlib.axes._subplots.AxesSubplot at 0x7f3998ea1280>"
            ]
          },
          "metadata": {},
          "execution_count": 6
        },
        {
          "output_type": "display_data",
          "data": {
            "text/plain": [
              "<Figure size 1800x720 with 2 Axes>"
            ],
            "image/png": "[encoded data removed]"
          },
          "metadata": {
            "needs_background": "light"
          }
        }
      ]
    },
    {
      "cell_type": "code",
      "source": [
        "df.drop(df.columns[15], axis=1, inplace=True) #dropping the column with null value in it."
      ],
      "metadata": {
        "id": "FuKR0T3DShUd"
      },
      "execution_count": null,
      "outputs": []
    },
    {
      "cell_type": "code",
      "source": [
        "sns.set_theme(style=\"darkgrid\")\n",
        "sns.countplot(y=\"Oncotree_Code\", data=df, palette=\"flare\")\n",
        "plt.ylabel('Cancer Type')\n",
        "plt.xlabel('Total')\n",
        "plt.show()"
      ],
      "metadata": {
        "colab": {
          "base_uri": "https://localhost:8080/",
          "height": 285
        },
        "id": "KgK53TfcpfdR",
        "outputId": "a80f3e90-4cfa-4638-8a09-59b98b25cfb4"
      },
      "execution_count": null,
      "outputs": [
        {
          "output_type": "display_data",
          "data": {
            "text/plain": [
              "<Figure size 432x288 with 1 Axes>"
            ],
            "image/png": "[encoded data removed]"
          },
          "metadata": {}
        }
      ]
    },
    {
      "cell_type": "code",
      "source": [
        "#Basic info about data\n",
        "print(\"Number of cases:\", len(df))\n",
        "print(\"Distribution:\")\n",
        "print(df.Oncotree_Code.value_counts())\n",
        "plt.pie(list(df.Oncotree_Code.value_counts()/len(df.Oncotree_Code)), startangle=90, labels = ['LUAD', 'LUSC','NSCLC','LUNE'] ,autopct='%1.0f%%')\n",
        "plt.title('Distribution of the Cancer Type nn%')\n",
        "plt.show()"
      ],
      "metadata": {
        "colab": {
          "base_uri": "https://localhost:8080/",
          "height": 389
        },
        "id": "BHE_p1aMMxcY",
        "outputId": "faab0291-2773-4fe2-f9ac-405653b1842e"
      },
      "execution_count": null,
      "outputs": [
        {
          "output_type": "stream",
          "name": "stdout",
          "text": [
            "Number of cases: 240\n",
            "Distribution:\n",
            "LUAD     186\n",
            "LUSC      34\n",
            "NSCLC     13\n",
            "LUNE       7\n",
            "Name: Oncotree_Code, dtype: int64\n"
          ]
        },
        {
          "output_type": "display_data",
          "data": {
            "text/plain": [
              "<Figure size 432x288 with 1 Axes>"
            ],
            "image/png": "[encoded data removed]"
          },
          "metadata": {}
        }
      ]
    },
    {
      "cell_type": "code",
      "source": [
        "pd.crosstab(df.Gender,df.Oncotree_Code).plot(kind=\"bar\",figsize=(12,5),color=['#003f5c','#ffa600','#58508d','#bc5090','#ff6361'])\n",
        "plt.title('Gender distribution based on cancer type')\n",
        "plt.xlabel('Gender')\n",
        "plt.xticks(rotation=0)\n",
        "plt.ylabel('Frequency')\n",
        "plt.show()"
      ],
      "metadata": {
        "colab": {
          "base_uri": "https://localhost:8080/",
          "height": 355
        },
        "id": "jr7lcfrbSgpJ",
        "outputId": "3d93dfc6-aed7-4925-de78-33af6e673c1d"
      },
      "execution_count": null,
      "outputs": [
        {
          "output_type": "display_data",
          "data": {
            "text/plain": [
              "<Figure size 864x360 with 1 Axes>"
            ],
            "image/png": "[encoded data removed]"
          },
          "metadata": {}
        }
      ]
    },
    {
      "cell_type": "code",
      "source": [
        "sns.distplot(df['Diagnosis_Age']);"
      ],
      "metadata": {
        "colab": {
          "base_uri": "https://localhost:8080/",
          "height": 341
        },
        "id": "7HCoeBTIowX1",
        "outputId": "0ee52e58-d9ac-4908-87ec-35d82c11582e"
      },
      "execution_count": null,
      "outputs": [
        {
          "output_type": "stream",
          "name": "stderr",
          "text": [
            "/usr/local/lib/python3.8/dist-packages/seaborn/distributions.py:2619: FutureWarning: `distplot` is a deprecated function and will be removed in a future version. Please adapt your code to use either `displot` (a figure-level function with similar flexibility) or `histplot` (an axes-level function for histograms).\n",
            "  warnings.warn(msg, FutureWarning)\n"
          ]
        },
        {
          "output_type": "display_data",
          "data": {
            "text/plain": [
              "<Figure size 432x288 with 1 Axes>"
            ],
            "image/png": "[encoded data removed]"
          },
          "metadata": {}
        }
      ]
    },
    {
      "cell_type": "code",
      "source": [
        "df.groupby(['Oncotree_Code','Treatment_Type','Durable_Clinical_Benefit'])['Durable_Clinical_Benefit'].count()"
      ],
      "metadata": {
        "colab": {
          "base_uri": "https://localhost:8080/"
        },
        "id": "XUH7H7H8TIGh",
        "outputId": "fbb06ff3-7e3d-4f3b-9866-3c3481bd279f"
      },
      "execution_count": null,
      "outputs": [
        {
          "output_type": "execute_result",
          "data": {
            "text/plain": [
              "Oncotree_Code  Treatment_Type  Durable_Clinical_Benefit\n",
              "LUAD           Combination     NE                            1\n",
              "                               NO                           12\n",
              "                               YES                          14\n",
              "               Monotherapy     NE                            6\n",
              "                               NO                          112\n",
              "                               YES                          41\n",
              "LUNE           Combination     NE                            1\n",
              "                               NO                            1\n",
              "                               YES                           1\n",
              "               Monotherapy     NO                            4\n",
              "LUSC           Combination     NO                            3\n",
              "               Monotherapy     NE                            3\n",
              "                               NO                           19\n",
              "                               YES                           9\n",
              "NSCLC          Combination     YES                           1\n",
              "               Monotherapy     NE                            2\n",
              "                               NO                            7\n",
              "                               YES                           3\n",
              "Name: Durable_Clinical_Benefit, dtype: int64"
            ]
          },
          "metadata": {},
          "execution_count": 12
        }
      ]
    },
    {
      "cell_type": "markdown",
      "source": [
        "#-----------------\n",
        "#-----------------\n",
        "#-----------------"
      ],
      "metadata": {
        "id": "y_f5CW1bTBcn"
      }
    },
    {
      "cell_type": "markdown",
      "source": [
        "----------------------------\n",
        "# **FEATURE** **SELECTION.**\n",
        "----------------------------"
      ],
      "metadata": {
        "id": "WJGsM-ZjTBhA"
      }
    },
    {
      "cell_type": "code",
      "source": [
        "df2 = pd.read_csv('/content/drive/MyDrive/ThesisWork/nsclc_pd1_msk_2018_clinical_data.tsv', sep='\\t')"
      ],
      "metadata": {
        "id": "ChvplLt3IQv_"
      },
      "execution_count": null,
      "outputs": []
    },
    {
      "cell_type": "code",
      "source": [
        "df2.rename(columns = {'Study ID':'Study_ID', 'Patient ID':'Patient_ID',\n",
        "                     'Sample ID':'Sample_ID' , 'Diagnosis Age':'Diagnosis_Age' ,\n",
        "                     'Cancer Type':'Cancer_Type' , 'Cancer Type Detailed':'Cancer_Type_Detailed' ,\n",
        "                     'Durable Clinical Benefit':'Durable_Clinical_Benefit' , 'FGA':'FGA' , \n",
        "                     'Fraction Genome Altered':'Fraction_Genome_Altered' , 'Gene Panel':'Gene_Panel',\n",
        "                     'Lines of treatment':'Lines_of_treatment' , 'Mutation Count':'Mutation_Count' , \n",
        "                     'Mutation Rate':'Mutation_Rate' , 'Oncotree Code':'Oncotree_Code', \n",
        "                     'PD-L1 Score (%)':'PD-L1Score%' , 'Progress Free Survival (Months)':'ProgressFreeSurvival_Months' ,\n",
        "                     'Progression Free Status':'ProgressionFreeStatus' ,\n",
        "                     'Number of Samples Per Patient':'Number_of_Samples_Per_Patient' , 'Sex':'Gender' ,\n",
        "                     'Smoker':'Smoker' , 'Somatic Status':'Somatic_Status' , 'TMB (nonsynonymous)':'TMB(nonsynonymous)',\n",
        "                     'Treatment Type':'Treatment_Type'}, inplace = True)"
      ],
      "metadata": {
        "id": "-UeTZdFWJEXn"
      },
      "execution_count": null,
      "outputs": []
    },
    {
      "cell_type": "code",
      "source": [
        "df2.info()"
      ],
      "metadata": {
        "colab": {
          "base_uri": "https://localhost:8080/"
        },
        "id": "d3OWGf2iMTD4",
        "outputId": "3423815d-cfee-4d93-e1c2-b0067ad5ec50"
      },
      "execution_count": null,
      "outputs": [
        {
          "output_type": "stream",
          "name": "stdout",
          "text": [
            "<class 'pandas.core.frame.DataFrame'>\n",
            "RangeIndex: 240 entries, 0 to 239\n",
            "Data columns (total 24 columns):\n",
            " #   Column                         Non-Null Count  Dtype  \n",
            "---  ------                         --------------  -----  \n",
            " 0   Study_ID                       240 non-null    object \n",
            " 1   Patient_ID                     240 non-null    object \n",
            " 2   Sample_ID                      240 non-null    object \n",
            " 3   Diagnosis_Age                  240 non-null    int64  \n",
            " 4   Cancer_Type                    240 non-null    object \n",
            " 5   Cancer_Type_Detailed           240 non-null    object \n",
            " 6   Durable_Clinical_Benefit       240 non-null    object \n",
            " 7   FGA                            240 non-null    float64\n",
            " 8   Fraction_Genome_Altered        240 non-null    float64\n",
            " 9   Gene_Panel                     240 non-null    object \n",
            " 10  IRB                            240 non-null    object \n",
            " 11  Lines_of_treatment             240 non-null    int64  \n",
            " 12  Mutation_Count                 240 non-null    int64  \n",
            " 13  Mutation_Rate                  240 non-null    float64\n",
            " 14  Oncotree_Code                  240 non-null    object \n",
            " 15  PD-L1Score%                    86 non-null     float64\n",
            " 16  ProgressFreeSurvival_Months    240 non-null    float64\n",
            " 17  ProgressionFreeStatus          240 non-null    object \n",
            " 18  Number_of_Samples_Per_Patient  240 non-null    int64  \n",
            " 19  Gender                         240 non-null    object \n",
            " 20  Smoker                         240 non-null    object \n",
            " 21  Somatic_Status                 240 non-null    object \n",
            " 22  TMB(nonsynonymous)             240 non-null    float64\n",
            " 23  Treatment_Type                 240 non-null    object \n",
            "dtypes: float64(6), int64(4), object(14)\n",
            "memory usage: 45.1+ KB\n"
          ]
        }
      ]
    },
    {
      "cell_type": "code",
      "source": [
        "df2.drop(df2.columns[[0,1,2,4,5,15]], axis=1, inplace=True) #dropping the columns that have no impact."
      ],
      "metadata": {
        "id": "L1avJ4EsKouU"
      },
      "execution_count": null,
      "outputs": []
    },
    {
      "cell_type": "code",
      "source": [
        "# initializing sklearn labelencoder\n",
        "label_encoder = preprocessing.LabelEncoder()\n",
        "\n",
        "cols = ['Durable_Clinical_Benefit','Gene_Panel','IRB','ProgressionFreeStatus','Gender','Smoker','Somatic_Status','Treatment_Type']\n",
        "# sklearn labelencoder\n",
        "df2[cols] = df2[cols].apply(preprocessing.LabelEncoder().fit_transform)\n",
        "X2 = df2.drop([\"Oncotree_Code\"], axis=1)\n",
        "y2 = df2[\"Oncotree_Code\"]\n",
        "\n",
        "#apply SelectKBest class to extract top 10 best features\n",
        "bestfeatures = SelectKBest(score_func=chi2, k=10)\n",
        "fit = bestfeatures.fit(X2,y2)"
      ],
      "metadata": {
        "id": "KJotBg59cjp2"
      },
      "execution_count": null,
      "outputs": []
    },
    {
      "cell_type": "code",
      "source": [
        "dfscores = pd.DataFrame(fit.scores_)\n",
        "dfcolumns = pd.DataFrame(X2.columns)\n",
        "\n",
        "#concat two dataframes for better visualization \n",
        "featureScores = pd.concat([dfcolumns,dfscores],axis=1)\n",
        "featureScores.columns = ['Feature','Score']  #naming the dataframe columns\n",
        "\n",
        "print(featureScores.nlargest(20,'Score'))  #print 10 best features"
      ],
      "metadata": {
        "colab": {
          "base_uri": "https://localhost:8080/"
        },
        "id": "JIiv9kH2Ieh_",
        "outputId": "a4a144d9-44f7-4dae-c136-c8c1b3e9f1b4"
      },
      "execution_count": null,
      "outputs": [
        {
          "output_type": "stream",
          "name": "stdout",
          "text": [
            "                          Feature      Score\n",
            "15             TMB(nonsynonymous)  18.404082\n",
            "7                  Mutation_Count  16.283650\n",
            "8                   Mutation_Rate  15.880111\n",
            "12                         Gender   5.893884\n",
            "13                         Smoker   4.556381\n",
            "0                   Diagnosis_Age   3.646101\n",
            "6              Lines_of_treatment   3.521684\n",
            "4                      Gene_Panel   2.548109\n",
            "9     ProgressFreeSurvival_Months   2.355921\n",
            "2                             FGA   1.280834\n",
            "3         Fraction_Genome_Altered   1.259834\n",
            "10          ProgressionFreeStatus   0.970589\n",
            "16                 Treatment_Type   0.850522\n",
            "5                             IRB   0.746918\n",
            "1        Durable_Clinical_Benefit   0.556983\n",
            "11  Number_of_Samples_Per_Patient   0.000000\n"
          ]
        }
      ]
    },
    {
      "cell_type": "code",
      "source": [
        "#Finally we will keep only the columns that have the bigger impacts on the target.\n",
        "df.drop(df.columns[[0,1,2,4,5,6,7,8,9,10,15,16,17,20,22]], axis=1, inplace=True)"
      ],
      "metadata": {
        "id": "i46f1YpWZpg2"
      },
      "execution_count": null,
      "outputs": []
    },
    {
      "cell_type": "markdown",
      "source": [
        "#----------------------------------------------------\n",
        "#----------------------------------------------------\n",
        "#----------------------------------------------------"
      ],
      "metadata": {
        "id": "fz_kcLAaTB-v"
      }
    },
    {
      "cell_type": "markdown",
      "source": [
        "-------------------------------\n",
        "# **Classification** **Models.**\n",
        "-------------------------------"
      ],
      "metadata": {
        "id": "QOPMpZIKVmA7"
      }
    },
    {
      "cell_type": "markdown",
      "source": [
        "**Splitting the dataset in train and test set.**"
      ],
      "metadata": {
        "id": "m6gjEfSVWnly"
      }
    },
    {
      "cell_type": "code",
      "source": [
        "df = df.sample(frac=1) #this will randomly shuffle the rows to make sure the data is not sorted."
      ],
      "metadata": {
        "id": "IBXjYgkvgdLx"
      },
      "execution_count": null,
      "outputs": []
    },
    {
      "cell_type": "code",
      "source": [
        "X = df.drop([\"Oncotree_Code\"], axis=1)\n",
        "y = df[\"Oncotree_Code\"] #This will be our target to predict."
      ],
      "metadata": {
        "id": "ezrRpqAlsWTq"
      },
      "execution_count": null,
      "outputs": []
    },
    {
      "cell_type": "code",
      "source": [
        "X = pd.get_dummies(X) #One Hot Encoding \n",
        "# initializing sklearn labelencoder\n",
        "label_encoder = preprocessing.LabelEncoder()\n",
        "cols = ['Oncotree_Code']\n",
        "# sklearn labelencoder\n",
        "df[cols] = df[cols].apply(preprocessing.LabelEncoder().fit_transform)\n",
        "y = df[\"Oncotree_Code\"]"
      ],
      "metadata": {
        "id": "Lkv7qCMGIeTw"
      },
      "execution_count": null,
      "outputs": []
    },
    {
      "cell_type": "code",
      "source": [
        "X_train, X_test, y_train, y_test = train_test_split(X, y, test_size = 0.21, shuffle = True, random_state = 0)"
      ],
      "metadata": {
        "id": "ILSMp-GKsoOk"
      },
      "execution_count": null,
      "outputs": []
    },
    {
      "cell_type": "code",
      "source": [
        "print(f\"TRAINING DATA: {X_train.shape[0]}\\nTESTING DATA: {X_test.shape[0]}\" )"
      ],
      "metadata": {
        "colab": {
          "base_uri": "https://localhost:8080/"
        },
        "id": "6Y4hPcxd4fHD",
        "outputId": "a6a222d5-3f19-4cc9-8520-abac8214422c"
      },
      "execution_count": null,
      "outputs": [
        {
          "output_type": "stream",
          "name": "stdout",
          "text": [
            "TRAINING DATA: 189\n",
            "TESTING DATA: 51\n"
          ]
        }
      ]
    },
    {
      "cell_type": "code",
      "source": [
        "sns.set_theme(style=\"darkgrid\")\n",
        "sns.countplot(y=y_train, data= X_train, palette=\"mako_r\")\n",
        "plt.ylabel('Cancer Type')\n",
        "plt.xlabel('Total')\n",
        "plt.show()"
      ],
      "metadata": {
        "colab": {
          "base_uri": "https://localhost:8080/",
          "height": 285
        },
        "id": "jlrVJgkqw-wA",
        "outputId": "6d815400-dfde-435f-f932-34e93be6ba2e"
      },
      "execution_count": null,
      "outputs": [
        {
          "output_type": "display_data",
          "data": {
            "text/plain": [
              "<Figure size 432x288 with 1 Axes>"
            ],
            "image/png": "[encoded data removed]"
          },
          "metadata": {}
        }
      ]
    },
    {
      "cell_type": "code",
      "source": [
        "X_train_2, y_train_2 = SMOTE().fit_resample(X_train, y_train)\n",
        "sns.set_theme(style=\"darkgrid\")\n",
        "sns.countplot(y=y_train_2, data= X_train_2, palette=\"mako_r\")\n",
        "plt.ylabel('Cancer Type')\n",
        "plt.xlabel('Total')\n",
        "plt.show()"
      ],
      "metadata": {
        "id": "YPm2Ev9ntLuM",
        "colab": {
          "base_uri": "https://localhost:8080/",
          "height": 285
        },
        "outputId": "65a6d01e-4461-4fba-da82-53139b241664"
      },
      "execution_count": null,
      "outputs": [
        {
          "output_type": "display_data",
          "data": {
            "text/plain": [
              "<Figure size 432x288 with 1 Axes>"
            ],
            "image/png": "[encoded data removed]"
          },
          "metadata": {}
        }
      ]
    },
    {
      "cell_type": "markdown",
      "source": [
        "Logisctic Regression"
      ],
      "metadata": {
        "id": "FlHsetuoYQd9"
      }
    },
    {
      "cell_type": "code",
      "source": [
        "LRclassifier = LogisticRegression(solver='liblinear', max_iter=5000)\n",
        "LRclassifier.fit(X_train, y_train)\n",
        "\n",
        "y_pred = LRclassifier.predict(X_test)\n",
        "\n",
        "print(classification_report(y_test, y_pred))\n",
        "\n",
        "\n",
        "LRAcc = accuracy_score(y_pred,y_test)\n",
        "print('Logistic Regression accuracy is: {:.2f}%'.format(LRAcc*100))"
      ],
      "metadata": {
        "colab": {
          "base_uri": "https://localhost:8080/"
        },
        "id": "W0M7YOW7tduA",
        "outputId": "20afbacf-8cd2-4b8c-ed7a-8c8713910b26"
      },
      "execution_count": null,
      "outputs": [
        {
          "output_type": "stream",
          "name": "stdout",
          "text": [
            "              precision    recall  f1-score   support\n",
            "\n",
            "           0       0.75      1.00      0.85        38\n",
            "           1       0.00      0.00      0.00         1\n",
            "           2       0.00      0.00      0.00         9\n",
            "           3       0.00      0.00      0.00         3\n",
            "\n",
            "    accuracy                           0.75        51\n",
            "   macro avg       0.19      0.25      0.21        51\n",
            "weighted avg       0.56      0.75      0.64        51\n",
            "\n",
            "[[38  0  0  0]\n",
            " [ 1  0  0  0]\n",
            " [ 9  0  0  0]\n",
            " [ 3  0  0  0]]\n",
            "Logistic Regression accuracy is: 74.51%\n"
          ]
        },
        {
          "output_type": "stream",
          "name": "stderr",
          "text": [
            "/usr/local/lib/python3.8/dist-packages/sklearn/metrics/_classification.py:1318: UndefinedMetricWarning: Precision and F-score are ill-defined and being set to 0.0 in labels with no predicted samples. Use `zero_division` parameter to control this behavior.\n",
            "  _warn_prf(average, modifier, msg_start, len(result))\n",
            "/usr/local/lib/python3.8/dist-packages/sklearn/metrics/_classification.py:1318: UndefinedMetricWarning: Precision and F-score are ill-defined and being set to 0.0 in labels with no predicted samples. Use `zero_division` parameter to control this behavior.\n",
            "  _warn_prf(average, modifier, msg_start, len(result))\n",
            "/usr/local/lib/python3.8/dist-packages/sklearn/metrics/_classification.py:1318: UndefinedMetricWarning: Precision and F-score are ill-defined and being set to 0.0 in labels with no predicted samples. Use `zero_division` parameter to control this behavior.\n",
            "  _warn_prf(average, modifier, msg_start, len(result))\n"
          ]
        }
      ]
    },
    {
      "cell_type": "markdown",
      "source": [
        "Decision Tree"
      ],
      "metadata": {
        "id": "6kdjIccnYgDV"
      }
    },
    {
      "cell_type": "code",
      "source": [
        "DTclassifier = DecisionTreeClassifier(max_leaf_nodes=10)\n",
        "DTclassifier.fit(X_train, y_train)\n",
        "\n",
        "y_pred = DTclassifier.predict(X_test)\n",
        "print(classification_report(y_test, y_pred))\n",
        "\n",
        "DTAcc = accuracy_score(y_pred,y_test)\n",
        "print('Decision Tree accuracy is: {:.2f}%'.format(DTAcc*100))"
      ],
      "metadata": {
        "colab": {
          "base_uri": "https://localhost:8080/"
        },
        "id": "gkvLXvQ87azu",
        "outputId": "40fcd6a0-09ca-4cff-f30f-fd34583d7be0"
      },
      "execution_count": null,
      "outputs": [
        {
          "output_type": "stream",
          "name": "stdout",
          "text": [
            "              precision    recall  f1-score   support\n",
            "\n",
            "           0       0.76      0.97      0.85        38\n",
            "           1       0.00      0.00      0.00         1\n",
            "           2       0.00      0.00      0.00         9\n",
            "           3       0.00      0.00      0.00         3\n",
            "\n",
            "    accuracy                           0.73        51\n",
            "   macro avg       0.19      0.24      0.21        51\n",
            "weighted avg       0.56      0.73      0.63        51\n",
            "\n",
            "Decision Tree accuracy is: 72.55%\n"
          ]
        },
        {
          "output_type": "stream",
          "name": "stderr",
          "text": [
            "/usr/local/lib/python3.8/dist-packages/sklearn/metrics/_classification.py:1318: UndefinedMetricWarning: Precision and F-score are ill-defined and being set to 0.0 in labels with no predicted samples. Use `zero_division` parameter to control this behavior.\n",
            "  _warn_prf(average, modifier, msg_start, len(result))\n",
            "/usr/local/lib/python3.8/dist-packages/sklearn/metrics/_classification.py:1318: UndefinedMetricWarning: Precision and F-score are ill-defined and being set to 0.0 in labels with no predicted samples. Use `zero_division` parameter to control this behavior.\n",
            "  _warn_prf(average, modifier, msg_start, len(result))\n",
            "/usr/local/lib/python3.8/dist-packages/sklearn/metrics/_classification.py:1318: UndefinedMetricWarning: Precision and F-score are ill-defined and being set to 0.0 in labels with no predicted samples. Use `zero_division` parameter to control this behavior.\n",
            "  _warn_prf(average, modifier, msg_start, len(result))\n"
          ]
        }
      ]
    },
    {
      "cell_type": "markdown",
      "source": [
        "Random Forest"
      ],
      "metadata": {
        "id": "SZpzZIoPYjgs"
      }
    },
    {
      "cell_type": "code",
      "source": [
        "RFclassifier = RandomForestClassifier(max_leaf_nodes=10)\n",
        "                                      \n",
        "RFclassifier.fit(X_train, y_train)\n",
        "\n",
        "y_pred = RFclassifier.predict(X_test)\n",
        "print(classification_report(y_test, y_pred))\n",
        "\n",
        "RFAcc = accuracy_score(y_pred,y_test)\n",
        "print('Random Forest accuracy is: {:.2f}%'.format(RFAcc*100))"
      ],
      "metadata": {
        "colab": {
          "base_uri": "https://localhost:8080/"
        },
        "id": "EEfAmkNz7mWP",
        "outputId": "dea43bbe-2b09-4491-80b7-8c74c180a00f"
      },
      "execution_count": null,
      "outputs": [
        {
          "output_type": "stream",
          "name": "stdout",
          "text": [
            "              precision    recall  f1-score   support\n",
            "\n",
            "           0       0.75      1.00      0.85        38\n",
            "           1       0.00      0.00      0.00         1\n",
            "           2       0.00      0.00      0.00         9\n",
            "           3       0.00      0.00      0.00         3\n",
            "\n",
            "    accuracy                           0.75        51\n",
            "   macro avg       0.19      0.25      0.21        51\n",
            "weighted avg       0.56      0.75      0.64        51\n",
            "\n",
            "Random Forest accuracy is: 74.51%\n"
          ]
        },
        {
          "output_type": "stream",
          "name": "stderr",
          "text": [
            "/usr/local/lib/python3.8/dist-packages/sklearn/metrics/_classification.py:1318: UndefinedMetricWarning: Precision and F-score are ill-defined and being set to 0.0 in labels with no predicted samples. Use `zero_division` parameter to control this behavior.\n",
            "  _warn_prf(average, modifier, msg_start, len(result))\n",
            "/usr/local/lib/python3.8/dist-packages/sklearn/metrics/_classification.py:1318: UndefinedMetricWarning: Precision and F-score are ill-defined and being set to 0.0 in labels with no predicted samples. Use `zero_division` parameter to control this behavior.\n",
            "  _warn_prf(average, modifier, msg_start, len(result))\n",
            "/usr/local/lib/python3.8/dist-packages/sklearn/metrics/_classification.py:1318: UndefinedMetricWarning: Precision and F-score are ill-defined and being set to 0.0 in labels with no predicted samples. Use `zero_division` parameter to control this behavior.\n",
            "  _warn_prf(average, modifier, msg_start, len(result))\n"
          ]
        }
      ]
    },
    {
      "cell_type": "markdown",
      "source": [
        "Support Vector Machine"
      ],
      "metadata": {
        "id": "jrYYK--rYmww"
      }
    },
    {
      "cell_type": "code",
      "source": [
        "svclassifier = SVC(kernel='linear')\n",
        "svclassifier.fit(X_train, y_train)\n",
        "\n",
        "y_pred = svclassifier.predict(X_test)\n",
        "print(classification_report(y_test, y_pred))\n",
        "\n",
        "SVMAcc = accuracy_score(y_pred,y_test)\n",
        "print('SVM accuracy is: {:.2f}%'.format(SVMAcc*100))\n"
      ],
      "metadata": {
        "colab": {
          "base_uri": "https://localhost:8080/"
        },
        "id": "xhPaeA9_y-SN",
        "outputId": "ac79ba1a-25b9-4a28-ec00-e8ea92cac361"
      },
      "execution_count": null,
      "outputs": [
        {
          "output_type": "stream",
          "name": "stdout",
          "text": [
            "              precision    recall  f1-score   support\n",
            "\n",
            "           0       0.75      1.00      0.85        38\n",
            "           1       0.00      0.00      0.00         1\n",
            "           2       0.00      0.00      0.00         9\n",
            "           3       0.00      0.00      0.00         3\n",
            "\n",
            "    accuracy                           0.75        51\n",
            "   macro avg       0.19      0.25      0.21        51\n",
            "weighted avg       0.56      0.75      0.64        51\n",
            "\n",
            "SVM accuracy is: 74.51%\n"
          ]
        },
        {
          "output_type": "stream",
          "name": "stderr",
          "text": [
            "/usr/local/lib/python3.8/dist-packages/sklearn/metrics/_classification.py:1318: UndefinedMetricWarning: Precision and F-score are ill-defined and being set to 0.0 in labels with no predicted samples. Use `zero_division` parameter to control this behavior.\n",
            "  _warn_prf(average, modifier, msg_start, len(result))\n",
            "/usr/local/lib/python3.8/dist-packages/sklearn/metrics/_classification.py:1318: UndefinedMetricWarning: Precision and F-score are ill-defined and being set to 0.0 in labels with no predicted samples. Use `zero_division` parameter to control this behavior.\n",
            "  _warn_prf(average, modifier, msg_start, len(result))\n",
            "/usr/local/lib/python3.8/dist-packages/sklearn/metrics/_classification.py:1318: UndefinedMetricWarning: Precision and F-score are ill-defined and being set to 0.0 in labels with no predicted samples. Use `zero_division` parameter to control this behavior.\n",
            "  _warn_prf(average, modifier, msg_start, len(result))\n"
          ]
        }
      ]
    },
    {
      "cell_type": "markdown",
      "source": [
        "K-nearest neighbours"
      ],
      "metadata": {
        "id": "BZkYly8uYrO-"
      }
    },
    {
      "cell_type": "code",
      "source": [
        "knn = KNeighborsClassifier(n_neighbors=5)\n",
        "knn.fit(X_train, y_train)\n",
        "\n",
        "y_pred = knn.predict(X_test)\n",
        "print(classification_report(y_test, y_pred))\n",
        "\n",
        "KNNAccuracy = accuracy_score(y_pred,y_test)\n",
        "print('KNN accuracy is: {:.2f}%'.format(KNNAccuracy*100))"
      ],
      "metadata": {
        "colab": {
          "base_uri": "https://localhost:8080/"
        },
        "id": "dgFNrSFxty5V",
        "outputId": "537ce45b-0a82-43b9-e9e2-bdd185eaf968"
      },
      "execution_count": null,
      "outputs": [
        {
          "output_type": "stream",
          "name": "stdout",
          "text": [
            "              precision    recall  f1-score   support\n",
            "\n",
            "           0       0.74      0.97      0.84        38\n",
            "           1       0.00      0.00      0.00         1\n",
            "           2       0.00      0.00      0.00         9\n",
            "           3       0.00      0.00      0.00         3\n",
            "\n",
            "    accuracy                           0.73        51\n",
            "   macro avg       0.18      0.24      0.21        51\n",
            "weighted avg       0.55      0.73      0.63        51\n",
            "\n",
            "KNN accuracy is: 72.55%\n"
          ]
        },
        {
          "output_type": "stream",
          "name": "stderr",
          "text": [
            "/usr/local/lib/python3.8/dist-packages/sklearn/metrics/_classification.py:1318: UndefinedMetricWarning: Precision and F-score are ill-defined and being set to 0.0 in labels with no predicted samples. Use `zero_division` parameter to control this behavior.\n",
            "  _warn_prf(average, modifier, msg_start, len(result))\n",
            "/usr/local/lib/python3.8/dist-packages/sklearn/metrics/_classification.py:1318: UndefinedMetricWarning: Precision and F-score are ill-defined and being set to 0.0 in labels with no predicted samples. Use `zero_division` parameter to control this behavior.\n",
            "  _warn_prf(average, modifier, msg_start, len(result))\n",
            "/usr/local/lib/python3.8/dist-packages/sklearn/metrics/_classification.py:1318: UndefinedMetricWarning: Precision and F-score are ill-defined and being set to 0.0 in labels with no predicted samples. Use `zero_division` parameter to control this behavior.\n",
            "  _warn_prf(average, modifier, msg_start, len(result))\n"
          ]
        }
      ]
    },
    {
      "cell_type": "markdown",
      "source": [
        "#---------------------\n",
        "#---------------------\n",
        "#---------------------"
      ],
      "metadata": {
        "id": "4R2lCAkLiHSx"
      }
    },
    {
      "cell_type": "markdown",
      "source": [
        "------------------------------------------\n",
        "**K-fold cross validation of each model.**\n",
        "------------------------------------------"
      ],
      "metadata": {
        "id": "V9soROjUZL17"
      }
    },
    {
      "cell_type": "code",
      "source": [
        "kfold = model_selection.KFold(n_splits=5)\n",
        "model_kfold = LogisticRegression(max_iter=5000)\n",
        "results_kfold_LR = model_selection.cross_val_score(model_kfold, X, y, cv=kfold)\n",
        "\n",
        "kfold = model_selection.KFold(n_splits=5)\n",
        "model_kfold = DecisionTreeClassifier(max_leaf_nodes=3)\n",
        "results_kfold_DT = model_selection.cross_val_score(model_kfold, X, y, cv=kfold) \n",
        "\n",
        "kfold = model_selection.KFold(n_splits=5)\n",
        "model_kfold = RandomForestClassifier(max_leaf_nodes=30)\n",
        "results_kfold_RF = model_selection.cross_val_score(model_kfold, X, y, cv=kfold)\n",
        "\n",
        "kfold = model_selection.KFold(n_splits=5)\n",
        "model_kfold = SVC(kernel='linear')\n",
        "results_kfold_SVM = model_selection.cross_val_score(model_kfold, X, y, cv=kfold)\n",
        "\n",
        "kfold = model_selection.KFold(n_splits=5)\n",
        "model_kfold = KNeighborsClassifier(n_neighbors=5)\n",
        "results_kfold_KNN = model_selection.cross_val_score(model_kfold, X, y, cv=kfold)\n",
        "\n",
        "print(\"Logistic Regression's Kfold CV Accuracy: %.2f%%\" % (results_kfold_LR.mean()*100.0))  \n",
        "print(\"Decision Tree's Kfold CV Accuracy: %.2f%%\" % (results_kfold_DT.mean()*100.0)) \n",
        "print(\"Random Forest's Kfold CV Accuracy: %.2f%%\" % (results_kfold_RF.mean()*100.0)) \n",
        "print(\"Support Vector's Kfold CV Accuracy: %.2f%%\" % (results_kfold_SVM.mean()*100.0))\n",
        "print(\"K-nearest Neighbour's Kfold CV Accuracy: %.2f%%\" % (results_kfold_KNN.mean()*100.0)) "
      ],
      "metadata": {
        "colab": {
          "base_uri": "https://localhost:8080/"
        },
        "id": "Yurk0Rn__ZPw",
        "outputId": "1cc4877a-64cf-47fb-ea8c-ded776ab531c"
      },
      "execution_count": null,
      "outputs": [
        {
          "output_type": "stream",
          "name": "stdout",
          "text": [
            "Logistic Regression's Kfold CV Accuracy: 77.50%\n",
            "Naive Byes's Kfold CV Accuracy: 20.42%\n",
            "Decision Tree's Kfold CV Accuracy: 76.25%\n",
            "Random Forest's Kfold CV Accuracy: 74.17%\n",
            "Support Vector's Kfold CV Accuracy: 77.50%\n",
            "K-nearest Neighbour's Kfold CV Accuracy: 75.83%\n"
          ]
        }
      ]
    },
    {
      "cell_type": "code",
      "source": [
        "#@title\n",
        "classifier = ['LR','DT' , 'RF' ,'SVM' , 'KNN']\n",
        "accuracy = [77.50,76.25,74.17,77.50,75.83]\n",
        "d = {'Classifiers':classifier,'Accuracy':accuracy}\n",
        "scores = pd.DataFrame(d)\n",
        "scores"
      ],
      "metadata": {
        "cellView": "form",
        "id": "9JcG1T3uwaDe"
      },
      "execution_count": null,
      "outputs": []
    },
    {
      "cell_type": "code",
      "source": [
        "#@title\n",
        "# Figure Size\n",
        "fig, ax = plt.subplots(figsize =(10, 2))\n",
        " \n",
        "# Horizontal Bar Plot\n",
        "ax.barh(classifier, accuracy)\n",
        "# Remove axes splines\n",
        "for s in ['top', 'bottom', 'left', 'right']:\n",
        "    ax.spines[s].set_visible(False)\n",
        "# Remove x, y Ticks\n",
        "ax.xaxis.set_ticks_position('none')\n",
        "ax.yaxis.set_ticks_position('none')\n",
        " \n",
        "# Add padding between axes and labels\n",
        "ax.xaxis.set_tick_params(pad = 5)\n",
        "ax.yaxis.set_tick_params(pad = 10)\n",
        "# Add x, y gridlines\n",
        "ax.grid(b = True, color ='grey',\n",
        "        linestyle ='-.', linewidth = 0.5,\n",
        "        alpha = 0.2)\n",
        " \n",
        "# Show top values\n",
        "ax.invert_yaxis()\n",
        "# Add annotation to bars\n",
        "for i in ax.patches:\n",
        "    plt.text(i.get_width()+0.2, i.get_y()+0.5,\n",
        "             str(round((i.get_width()), 2)),\n",
        "             fontsize = 10, fontweight ='bold',\n",
        "             color ='grey')\n",
        "# Add Plot Title\n",
        "ax.set_title(\"Classifier's CV accuracy scores\",\n",
        "             loc ='left', )\n",
        "# Show Plot\n",
        "plt.show() "
      ],
      "metadata": {
        "colab": {
          "base_uri": "https://localhost:8080/",
          "height": 177
        },
        "id": "CyQTrpP61Xl9",
        "outputId": "120bce0f-c583-4ed9-9ba5-cf6597df245d"
      },
      "execution_count": null,
      "outputs": [
        {
          "output_type": "display_data",
          "data": {
            "text/plain": [
              "<Figure size 720x144 with 1 Axes>"
            ],
            "image/png": "[encoded data removed]"
          },
          "metadata": {}
        }
      ]
    }
  ]
}